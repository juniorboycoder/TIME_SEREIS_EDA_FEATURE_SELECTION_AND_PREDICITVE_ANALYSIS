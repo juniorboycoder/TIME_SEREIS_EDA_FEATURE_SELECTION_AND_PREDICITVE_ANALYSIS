{
 "cells": [
  {
   "cell_type": "code",
   "execution_count": 1,
   "metadata": {},
   "outputs": [
    {
     "name": "stderr",
     "output_type": "stream",
     "text": [
      "C:\\Users\\admin\\AppData\\Roaming\\Python\\Python37\\site-packages\\pandas\\compat\\_optional.py:138: UserWarning: Pandas requires version '2.7.0' or newer of 'numexpr' (version '2.6.9' currently installed).\n",
      "  warnings.warn(msg, UserWarning)\n"
     ]
    }
   ],
   "source": [
    "# import libraries\n",
    "\n",
    "#SKlearn modules\n",
    "from sklearn.model_selection import train_test_split\n",
    "from sklearn.model_selection import cross_val_score\n",
    "\n",
    "from sklearn.metrics import accuracy_score\n",
    "from sklearn.metrics import confusion_matrix\n",
    "#numpy\n",
    "import numpy as np \n",
    "#pandas\n",
    "import pandas as pd \n",
    "\n",
    "#matplotlib for visualization\n",
    "import matplotlib.pyplot as plt\n",
    "\n",
    "#seaborn for visualization\n",
    "import seaborn as sns\n",
    "\n"
   ]
  },
  {
   "cell_type": "code",
   "execution_count": 2,
   "metadata": {},
   "outputs": [
    {
     "data": {
      "text/html": [
       "<div>\n",
       "<style scoped>\n",
       "    .dataframe tbody tr th:only-of-type {\n",
       "        vertical-align: middle;\n",
       "    }\n",
       "\n",
       "    .dataframe tbody tr th {\n",
       "        vertical-align: top;\n",
       "    }\n",
       "\n",
       "    .dataframe thead th {\n",
       "        text-align: right;\n",
       "    }\n",
       "</style>\n",
       "<table border=\"1\" class=\"dataframe\">\n",
       "  <thead>\n",
       "    <tr style=\"text-align: right;\">\n",
       "      <th></th>\n",
       "      <th>Year</th>\n",
       "      <th>crimes.total</th>\n",
       "      <th>crimes.penal.code</th>\n",
       "      <th>crimes.person</th>\n",
       "      <th>murder</th>\n",
       "      <th>assault</th>\n",
       "      <th>sexual.offenses</th>\n",
       "      <th>rape</th>\n",
       "      <th>stealing.general</th>\n",
       "      <th>burglary</th>\n",
       "      <th>...</th>\n",
       "      <th>vehicle.theft</th>\n",
       "      <th>out.of.vehicle.theft</th>\n",
       "      <th>shop.theft</th>\n",
       "      <th>robbery</th>\n",
       "      <th>fraud</th>\n",
       "      <th>criminal.damage</th>\n",
       "      <th>other.penal.crimes</th>\n",
       "      <th>narcotics</th>\n",
       "      <th>drunk.driving</th>\n",
       "      <th>population</th>\n",
       "    </tr>\n",
       "  </thead>\n",
       "  <tbody>\n",
       "    <tr>\n",
       "      <th>0</th>\n",
       "      <td>1950</td>\n",
       "      <td>2784</td>\n",
       "      <td>2306</td>\n",
       "      <td>120</td>\n",
       "      <td>1</td>\n",
       "      <td>105</td>\n",
       "      <td>40</td>\n",
       "      <td>5</td>\n",
       "      <td>1578</td>\n",
       "      <td>295</td>\n",
       "      <td>...</td>\n",
       "      <td>NaN</td>\n",
       "      <td>NaN</td>\n",
       "      <td>NaN</td>\n",
       "      <td>3</td>\n",
       "      <td>209</td>\n",
       "      <td>72</td>\n",
       "      <td>477</td>\n",
       "      <td>0.0</td>\n",
       "      <td>49</td>\n",
       "      <td>7014000</td>\n",
       "    </tr>\n",
       "    <tr>\n",
       "      <th>1</th>\n",
       "      <td>1951</td>\n",
       "      <td>3284</td>\n",
       "      <td>2754</td>\n",
       "      <td>125</td>\n",
       "      <td>1</td>\n",
       "      <td>109</td>\n",
       "      <td>45</td>\n",
       "      <td>6</td>\n",
       "      <td>1899</td>\n",
       "      <td>342</td>\n",
       "      <td>...</td>\n",
       "      <td>NaN</td>\n",
       "      <td>NaN</td>\n",
       "      <td>NaN</td>\n",
       "      <td>3</td>\n",
       "      <td>310</td>\n",
       "      <td>73</td>\n",
       "      <td>530</td>\n",
       "      <td>0.0</td>\n",
       "      <td>66</td>\n",
       "      <td>7073000</td>\n",
       "    </tr>\n",
       "    <tr>\n",
       "      <th>2</th>\n",
       "      <td>1952</td>\n",
       "      <td>3160</td>\n",
       "      <td>2608</td>\n",
       "      <td>119</td>\n",
       "      <td>1</td>\n",
       "      <td>104</td>\n",
       "      <td>39</td>\n",
       "      <td>4</td>\n",
       "      <td>1846</td>\n",
       "      <td>372</td>\n",
       "      <td>...</td>\n",
       "      <td>NaN</td>\n",
       "      <td>NaN</td>\n",
       "      <td>NaN</td>\n",
       "      <td>3</td>\n",
       "      <td>217</td>\n",
       "      <td>82</td>\n",
       "      <td>553</td>\n",
       "      <td>0.0</td>\n",
       "      <td>78</td>\n",
       "      <td>7125000</td>\n",
       "    </tr>\n",
       "    <tr>\n",
       "      <th>3</th>\n",
       "      <td>1953</td>\n",
       "      <td>2909</td>\n",
       "      <td>2689</td>\n",
       "      <td>119</td>\n",
       "      <td>1</td>\n",
       "      <td>105</td>\n",
       "      <td>45</td>\n",
       "      <td>5</td>\n",
       "      <td>1929</td>\n",
       "      <td>361</td>\n",
       "      <td>...</td>\n",
       "      <td>NaN</td>\n",
       "      <td>NaN</td>\n",
       "      <td>NaN</td>\n",
       "      <td>4</td>\n",
       "      <td>209</td>\n",
       "      <td>88</td>\n",
       "      <td>220</td>\n",
       "      <td>0.0</td>\n",
       "      <td>91</td>\n",
       "      <td>7171000</td>\n",
       "    </tr>\n",
       "    <tr>\n",
       "      <th>4</th>\n",
       "      <td>1954</td>\n",
       "      <td>3028</td>\n",
       "      <td>2791</td>\n",
       "      <td>126</td>\n",
       "      <td>1</td>\n",
       "      <td>107</td>\n",
       "      <td>41</td>\n",
       "      <td>5</td>\n",
       "      <td>1981</td>\n",
       "      <td>393</td>\n",
       "      <td>...</td>\n",
       "      <td>NaN</td>\n",
       "      <td>NaN</td>\n",
       "      <td>NaN</td>\n",
       "      <td>4</td>\n",
       "      <td>236</td>\n",
       "      <td>101</td>\n",
       "      <td>237</td>\n",
       "      <td>0.0</td>\n",
       "      <td>103</td>\n",
       "      <td>7213000</td>\n",
       "    </tr>\n",
       "  </tbody>\n",
       "</table>\n",
       "<p>5 rows × 21 columns</p>\n",
       "</div>"
      ],
      "text/plain": [
       "   Year  crimes.total  crimes.penal.code  crimes.person  murder  assault  \\\n",
       "0  1950          2784               2306            120       1      105   \n",
       "1  1951          3284               2754            125       1      109   \n",
       "2  1952          3160               2608            119       1      104   \n",
       "3  1953          2909               2689            119       1      105   \n",
       "4  1954          3028               2791            126       1      107   \n",
       "\n",
       "   sexual.offenses  rape  stealing.general  burglary  ...  vehicle.theft  \\\n",
       "0               40     5              1578       295  ...            NaN   \n",
       "1               45     6              1899       342  ...            NaN   \n",
       "2               39     4              1846       372  ...            NaN   \n",
       "3               45     5              1929       361  ...            NaN   \n",
       "4               41     5              1981       393  ...            NaN   \n",
       "\n",
       "   out.of.vehicle.theft  shop.theft  robbery  fraud  criminal.damage  \\\n",
       "0                   NaN         NaN        3    209               72   \n",
       "1                   NaN         NaN        3    310               73   \n",
       "2                   NaN         NaN        3    217               82   \n",
       "3                   NaN         NaN        4    209               88   \n",
       "4                   NaN         NaN        4    236              101   \n",
       "\n",
       "   other.penal.crimes  narcotics  drunk.driving  population  \n",
       "0                 477        0.0             49     7014000  \n",
       "1                 530        0.0             66     7073000  \n",
       "2                 553        0.0             78     7125000  \n",
       "3                 220        0.0             91     7171000  \n",
       "4                 237        0.0            103     7213000  \n",
       "\n",
       "[5 rows x 21 columns]"
      ]
     },
     "execution_count": 2,
     "metadata": {},
     "output_type": "execute_result"
    }
   ],
   "source": [
    "\n",
    "dataset = pd.read_csv(\"reported.csv\")\n",
    "dataset[:5]"
   ]
  },
  {
   "cell_type": "code",
   "execution_count": 3,
   "metadata": {},
   "outputs": [
    {
     "data": {
      "text/plain": [
       "Index(['Year', 'crimes.total', 'crimes.penal.code', 'crimes.person', 'murder',\n",
       "       'assault', 'sexual.offenses', 'rape', 'stealing.general', 'burglary',\n",
       "       'house.theft', 'vehicle.theft', 'out.of.vehicle.theft', 'shop.theft',\n",
       "       'robbery', 'fraud', 'criminal.damage', 'other.penal.crimes',\n",
       "       'narcotics', 'drunk.driving', 'population'],\n",
       "      dtype='object')"
      ]
     },
     "execution_count": 3,
     "metadata": {},
     "output_type": "execute_result"
    }
   ],
   "source": [
    "dataset.columns"
   ]
  },
  {
   "cell_type": "code",
   "execution_count": 4,
   "metadata": {},
   "outputs": [
    {
     "data": {
      "text/plain": [
       "True"
      ]
     },
     "execution_count": 4,
     "metadata": {},
     "output_type": "execute_result"
    }
   ],
   "source": [
    "#check the whole dataset for missing data\n",
    "\n",
    "Is_there_missing_data= dataset.isnull().any().any()\n",
    "Is_there_missing_data"
   ]
  },
  {
   "cell_type": "code",
   "execution_count": 5,
   "metadata": {},
   "outputs": [
    {
     "data": {
      "text/plain": [
       "(66, 21)"
      ]
     },
     "execution_count": 5,
     "metadata": {},
     "output_type": "execute_result"
    }
   ],
   "source": [
    "#total amount of rows and colunms\n",
    "\n",
    "dataset.shape"
   ]
  },
  {
   "cell_type": "code",
   "execution_count": 6,
   "metadata": {},
   "outputs": [
    {
     "data": {
      "text/plain": [
       "Year                      int64\n",
       "crimes.total              int64\n",
       "crimes.penal.code         int64\n",
       "crimes.person             int64\n",
       "murder                    int64\n",
       "assault                   int64\n",
       "sexual.offenses           int64\n",
       "rape                      int64\n",
       "stealing.general          int64\n",
       "burglary                  int64\n",
       "house.theft             float64\n",
       "vehicle.theft           float64\n",
       "out.of.vehicle.theft    float64\n",
       "shop.theft              float64\n",
       "robbery                   int64\n",
       "fraud                     int64\n",
       "criminal.damage           int64\n",
       "other.penal.crimes        int64\n",
       "narcotics               float64\n",
       "drunk.driving             int64\n",
       "population                int64\n",
       "dtype: object"
      ]
     },
     "execution_count": 6,
     "metadata": {},
     "output_type": "execute_result"
    }
   ],
   "source": [
    "dataset.dtypes"
   ]
  },
  {
   "cell_type": "code",
   "execution_count": 7,
   "metadata": {},
   "outputs": [
    {
     "data": {
      "text/plain": [
       "2    31\n",
       "1    26\n",
       "3     8\n",
       "4     1\n",
       "Name: murder, dtype: int64"
      ]
     },
     "execution_count": 7,
     "metadata": {},
     "output_type": "execute_result"
    }
   ],
   "source": [
    "dataset['murder'].value_counts()"
   ]
  },
  {
   "cell_type": "markdown",
   "metadata": {},
   "source": [
    "## DATA PREPROCESSING"
   ]
  },
  {
   "cell_type": "markdown",
   "metadata": {},
   "source": [
    "#### replace missing data with mean of column"
   ]
  },
  {
   "cell_type": "code",
   "execution_count": 8,
   "metadata": {},
   "outputs": [
    {
     "data": {
      "text/plain": [
       "False"
      ]
     },
     "execution_count": 8,
     "metadata": {},
     "output_type": "execute_result"
    }
   ],
   "source": [
    "\n",
    "#replace rows with mean of each column with missing data\n",
    "\n",
    "dataset=dataset.apply(lambda x: x.fillna(x.mean())) \n",
    "dataset.shape\n",
    "\n",
    "#check the whole dataset for missing data\n",
    "\n",
    "Is_there_missing_data= dataset.isnull().any().any()\n",
    "Is_there_missing_data"
   ]
  },
  {
   "cell_type": "markdown",
   "metadata": {},
   "source": [
    "### outlier detection"
   ]
  },
  {
   "cell_type": "markdown",
   "metadata": {},
   "source": [
    "#### Outlier detection :visualization method"
   ]
  },
  {
   "cell_type": "markdown",
   "metadata": {},
   "source": [
    "##### box plot"
   ]
  },
  {
   "cell_type": "code",
   "execution_count": 9,
   "metadata": {
    "scrolled": true
   },
   "outputs": [
    {
     "name": "stderr",
     "output_type": "stream",
     "text": [
      "C:\\Users\\admin\\AppData\\Roaming\\Python\\Python37\\site-packages\\seaborn\\_decorators.py:43: FutureWarning: Pass the following variable as a keyword arg: x. From version 0.12, the only valid positional argument will be `data`, and passing other arguments without an explicit keyword will result in an error or misinterpretation.\n",
      "  FutureWarning\n",
      "C:\\Users\\admin\\AppData\\Roaming\\Python\\Python37\\site-packages\\seaborn\\_decorators.py:43: FutureWarning: Pass the following variable as a keyword arg: x. From version 0.12, the only valid positional argument will be `data`, and passing other arguments without an explicit keyword will result in an error or misinterpretation.\n",
      "  FutureWarning\n"
     ]
    },
    {
     "data": {
      "image/png": "[encoded data removed]",
      "text/plain": [
       "<Figure size 1152x360 with 2 Axes>"
      ]
     },
     "metadata": {
      "needs_background": "light"
     },
     "output_type": "display_data"
    }
   ],
   "source": [
    "\n",
    "# Box Plot\n",
    "import seaborn as sns\n",
    "df=dataset\n",
    "\n",
    "plt.figure(figsize=(16,5))\n",
    "plt.subplot(1,2,1)\n",
    "\n",
    "sns.boxplot(df['crimes.total'])\n",
    "\n",
    "plt.subplot(1,2,2)\n",
    "\n",
    "sns.boxplot(df['rape'])\n",
    "\n",
    "plt.show()"
   ]
  },
  {
   "cell_type": "markdown",
   "metadata": {},
   "source": [
    "###### distribution plot"
   ]
  },
  {
   "cell_type": "code",
   "execution_count": 10,
   "metadata": {},
   "outputs": [
    {
     "name": "stderr",
     "output_type": "stream",
     "text": [
      "C:\\Users\\admin\\AppData\\Roaming\\Python\\Python37\\site-packages\\seaborn\\distributions.py:2619: FutureWarning: `distplot` is a deprecated function and will be removed in a future version. Please adapt your code to use either `displot` (a figure-level function with similar flexibility) or `histplot` (an axes-level function for histograms).\n",
      "  warnings.warn(msg, FutureWarning)\n",
      "C:\\ProgramData\\Anaconda3\\lib\\site-packages\\matplotlib\\cbook\\__init__.py:1377: FutureWarning: Support for multi-dimensional indexing (e.g. `obj[:, None]`) is deprecated and will be removed in a future version.  Convert to a numpy array before indexing instead.\n",
      "  x[:, None]\n",
      "C:\\ProgramData\\Anaconda3\\lib\\site-packages\\matplotlib\\axes\\_base.py:237: FutureWarning: Support for multi-dimensional indexing (e.g. `obj[:, None]`) is deprecated and will be removed in a future version.  Convert to a numpy array before indexing instead.\n",
      "  x = x[:, np.newaxis]\n",
      "C:\\ProgramData\\Anaconda3\\lib\\site-packages\\matplotlib\\axes\\_base.py:239: FutureWarning: Support for multi-dimensional indexing (e.g. `obj[:, None]`) is deprecated and will be removed in a future version.  Convert to a numpy array before indexing instead.\n",
      "  y = y[:, np.newaxis]\n",
      "C:\\Users\\admin\\AppData\\Roaming\\Python\\Python37\\site-packages\\seaborn\\distributions.py:2619: FutureWarning: `distplot` is a deprecated function and will be removed in a future version. Please adapt your code to use either `displot` (a figure-level function with similar flexibility) or `histplot` (an axes-level function for histograms).\n",
      "  warnings.warn(msg, FutureWarning)\n",
      "C:\\ProgramData\\Anaconda3\\lib\\site-packages\\matplotlib\\cbook\\__init__.py:1377: FutureWarning: Support for multi-dimensional indexing (e.g. `obj[:, None]`) is deprecated and will be removed in a future version.  Convert to a numpy array before indexing instead.\n",
      "  x[:, None]\n",
      "C:\\ProgramData\\Anaconda3\\lib\\site-packages\\matplotlib\\axes\\_base.py:237: FutureWarning: Support for multi-dimensional indexing (e.g. `obj[:, None]`) is deprecated and will be removed in a future version.  Convert to a numpy array before indexing instead.\n",
      "  x = x[:, np.newaxis]\n",
      "C:\\ProgramData\\Anaconda3\\lib\\site-packages\\matplotlib\\axes\\_base.py:239: FutureWarning: Support for multi-dimensional indexing (e.g. `obj[:, None]`) is deprecated and will be removed in a future version.  Convert to a numpy array before indexing instead.\n",
      "  y = y[:, np.newaxis]\n"
     ]
    },
    {
     "data": {
      "image/png": "[encoded data removed]",
      "text/plain": [
       "<Figure size 1152x360 with 2 Axes>"
      ]
     },
     "metadata": {
      "needs_background": "light"
     },
     "output_type": "display_data"
    }
   ],
   "source": [
    "#### check for outliers\n",
    "\n",
    "plt.figure(figsize=(16,5))\n",
    "plt.subplot(1,2,1)\n",
    "sns.distplot(df['crimes.total'])\n",
    "plt.subplot(1,2,2)\n",
    "sns.distplot(df['rape'])\n",
    "\n",
    "plt.show()"
   ]
  },
  {
   "cell_type": "markdown",
   "metadata": {},
   "source": [
    "#### Z Score"
   ]
  },
  {
   "cell_type": "code",
   "execution_count": 11,
   "metadata": {},
   "outputs": [
    {
     "name": "stdout",
     "output_type": "stream",
     "text": [
      "[[1.70600345 1.7415684  1.79728478 ... 1.30941688 2.68443589 1.86371119]\n",
      " [1.65351103 1.6222871  1.67126183 ... 1.30941688 2.42625511 1.78090132]\n",
      " [1.60101862 1.65186886 1.71233181 ... 1.30941688 2.24400984 1.70791635]\n",
      " ...\n",
      " [1.60101862 1.07800292 0.94990315 ... 2.08410923 0.8085983  1.82764402]\n",
      " [1.65351103 1.14647039 1.01544634 ... 2.01976093 0.68710146 1.97221041]\n",
      " [1.70600345 1.25430068 1.15553436 ... 1.94186562 0.62635303 2.11818035]]\n",
      "(array([ 0,  0,  1,  2,  3, 15, 15, 16, 16, 17, 17, 18, 19, 34, 40, 58, 58,\n",
      "       59, 59, 60, 60, 60, 61, 61, 62, 62, 62, 63, 63, 63, 63, 64, 64, 64,\n",
      "       64, 65, 65, 65, 65], dtype=int64), array([ 9, 19, 19, 19, 19, 10, 13, 10, 13, 10, 13, 10, 10, 10, 11,  7, 16,\n",
      "        7, 16,  4,  6,  7,  6,  7,  6,  7, 18,  6,  7, 15, 18,  6,  7, 15,\n",
      "       18,  6,  7, 15, 20], dtype=int64))\n"
     ]
    }
   ],
   "source": [
    "# Z score for outlier detection\n",
    "from scipy import stats\n",
    "import numpy as np\n",
    "\n",
    "z = np.abs(stats.zscore(df))\n",
    "\n",
    "print(z)\n",
    "\n",
    "threshold = 2\n",
    "\n",
    "# Position of the outlier\n",
    "print(np.where(z > 2))\n",
    "\n"
   ]
  },
  {
   "cell_type": "markdown",
   "metadata": {},
   "source": [
    "#### Interquatile range"
   ]
  },
  {
   "cell_type": "code",
   "execution_count": 12,
   "metadata": {},
   "outputs": [],
   "source": [
    "\n",
    "# IQR\n",
    "Q1 = np.percentile(df, 25,\n",
    "                   interpolation = 'midpoint')\n",
    " \n",
    "Q3 = np.percentile(df, 75,\n",
    "                   interpolation = 'midpoint')\n",
    "IQR = Q3 - Q1\n"
   ]
  },
  {
   "cell_type": "code",
   "execution_count": 13,
   "metadata": {},
   "outputs": [
    {
     "name": "stdout",
     "output_type": "stream",
     "text": [
      "Upper bound:      Year  crimes.total  crimes.penal.code  crimes.person  murder  assault  \\\n",
      "0   False         False              False          False   False    False   \n",
      "1   False         False              False          False   False    False   \n",
      "2   False         False              False          False   False    False   \n",
      "3   False         False              False          False   False    False   \n",
      "4   False         False              False          False   False    False   \n",
      "..    ...           ...                ...            ...     ...      ...   \n",
      "61  False          True               True          False   False    False   \n",
      "62  False          True               True          False   False    False   \n",
      "63  False          True               True          False   False    False   \n",
      "64  False          True               True          False   False    False   \n",
      "65  False          True               True          False   False    False   \n",
      "\n",
      "    sexual.offenses   rape  stealing.general  burglary  ...  vehicle.theft  \\\n",
      "0             False  False             False     False  ...          False   \n",
      "1             False  False             False     False  ...          False   \n",
      "2             False  False             False     False  ...          False   \n",
      "3             False  False             False     False  ...          False   \n",
      "4             False  False             False     False  ...          False   \n",
      "..              ...    ...               ...       ...  ...            ...   \n",
      "61            False  False              True     False  ...          False   \n",
      "62            False  False              True     False  ...          False   \n",
      "63            False  False              True     False  ...          False   \n",
      "64            False  False              True     False  ...          False   \n",
      "65            False  False              True     False  ...          False   \n",
      "\n",
      "    out.of.vehicle.theft  shop.theft  robbery  fraud  criminal.damage  \\\n",
      "0                  False       False    False  False            False   \n",
      "1                  False       False    False  False            False   \n",
      "2                  False       False    False  False            False   \n",
      "3                  False       False    False  False            False   \n",
      "4                  False       False    False  False            False   \n",
      "..                   ...         ...      ...    ...              ...   \n",
      "61                 False       False    False  False            False   \n",
      "62                 False       False    False  False            False   \n",
      "63                 False       False    False  False            False   \n",
      "64                 False       False    False  False            False   \n",
      "65                 False       False    False  False            False   \n",
      "\n",
      "    other.penal.crimes  narcotics  drunk.driving  population  \n",
      "0                False      False          False        True  \n",
      "1                False      False          False        True  \n",
      "2                False      False          False        True  \n",
      "3                False      False          False        True  \n",
      "4                False      False          False        True  \n",
      "..                 ...        ...            ...         ...  \n",
      "61               False      False          False        True  \n",
      "62               False      False          False        True  \n",
      "63               False      False          False        True  \n",
      "64               False      False          False        True  \n",
      "65               False      False          False        True  \n",
      "\n",
      "[66 rows x 21 columns]\n",
      "(array([ 0,  1,  2,  3,  4,  5,  6,  7,  8,  9, 10, 11, 12, 13, 13, 14, 14,\n",
      "       15, 15, 15, 16, 16, 16, 17, 17, 17, 18, 18, 18, 19, 19, 19, 20, 20,\n",
      "       20, 20, 21, 21, 21, 21, 22, 22, 22, 22, 23, 23, 23, 23, 24, 24, 24,\n",
      "       24, 25, 25, 25, 25, 26, 26, 26, 26, 27, 27, 27, 27, 28, 28, 28, 28,\n",
      "       29, 29, 29, 29, 30, 30, 30, 30, 31, 31, 31, 31, 32, 32, 32, 32, 33,\n",
      "       33, 33, 33, 34, 34, 34, 34, 35, 35, 35, 35, 36, 36, 36, 36, 37, 37,\n",
      "       37, 37, 38, 38, 38, 38, 39, 39, 39, 39, 40, 40, 40, 40, 41, 41, 41,\n",
      "       41, 42, 42, 42, 42, 43, 43, 43, 43, 44, 44, 44, 44, 45, 45, 45, 45,\n",
      "       46, 46, 46, 46, 47, 47, 47, 47, 48, 48, 48, 48, 49, 49, 49, 49, 50,\n",
      "       50, 50, 50, 51, 51, 51, 51, 52, 52, 52, 52, 53, 53, 53, 53, 54, 54,\n",
      "       54, 54, 55, 55, 55, 55, 56, 56, 56, 56, 57, 57, 57, 57, 58, 58, 58,\n",
      "       58, 59, 59, 59, 59, 60, 60, 60, 60, 61, 61, 61, 61, 62, 62, 62, 62,\n",
      "       63, 63, 63, 63, 64, 64, 64, 64, 65, 65, 65, 65], dtype=int64), array([20, 20, 20, 20, 20, 20, 20, 20, 20, 20, 20, 20, 20,  1, 20,  1, 20,\n",
      "        1,  2, 20,  1,  2, 20,  1,  2, 20,  1,  2, 20,  1,  2, 20,  1,  2,\n",
      "        8, 20,  1,  2,  8, 20,  1,  2,  8, 20,  1,  2,  8, 20,  1,  2,  8,\n",
      "       20,  1,  2,  8, 20,  1,  2,  8, 20,  1,  2,  8, 20,  1,  2,  8, 20,\n",
      "        1,  2,  8, 20,  1,  2,  8, 20,  1,  2,  8, 20,  1,  2,  8, 20,  1,\n",
      "        2,  8, 20,  1,  2,  8, 20,  1,  2,  8, 20,  1,  2,  8, 20,  1,  2,\n",
      "        8, 20,  1,  2,  8, 20,  1,  2,  8, 20,  1,  2,  8, 20,  1,  2,  8,\n",
      "       20,  1,  2,  8, 20,  1,  2,  8, 20,  1,  2,  8, 20,  1,  2,  8, 20,\n",
      "        1,  2,  8, 20,  1,  2,  8, 20,  1,  2,  8, 20,  1,  2,  8, 20,  1,\n",
      "        2,  8, 20,  1,  2,  8, 20,  1,  2,  8, 20,  1,  2,  8, 20,  1,  2,\n",
      "        8, 20,  1,  2,  8, 20,  1,  2,  8, 20,  1,  2,  8, 20,  1,  2,  8,\n",
      "       20,  1,  2,  8, 20,  1,  2,  8, 20,  1,  2,  8, 20,  1,  2,  8, 20,\n",
      "        1,  2,  8, 20,  1,  2,  8, 20,  1,  2,  8, 20], dtype=int64))\n",
      "Lower bound:      Year  crimes.total  crimes.penal.code  crimes.person  murder  assault  \\\n",
      "0   False         False              False          False   False    False   \n",
      "1   False         False              False          False   False    False   \n",
      "2   False         False              False          False   False    False   \n",
      "3   False         False              False          False   False    False   \n",
      "4   False         False              False          False   False    False   \n",
      "..    ...           ...                ...            ...     ...      ...   \n",
      "61  False         False              False          False   False    False   \n",
      "62  False         False              False          False   False    False   \n",
      "63  False         False              False          False   False    False   \n",
      "64  False         False              False          False   False    False   \n",
      "65  False         False              False          False   False    False   \n",
      "\n",
      "    sexual.offenses   rape  stealing.general  burglary  ...  vehicle.theft  \\\n",
      "0             False  False             False     False  ...          False   \n",
      "1             False  False             False     False  ...          False   \n",
      "2             False  False             False     False  ...          False   \n",
      "3             False  False             False     False  ...          False   \n",
      "4             False  False             False     False  ...          False   \n",
      "..              ...    ...               ...       ...  ...            ...   \n",
      "61            False  False             False     False  ...          False   \n",
      "62            False  False             False     False  ...          False   \n",
      "63            False  False             False     False  ...          False   \n",
      "64            False  False             False     False  ...          False   \n",
      "65            False  False             False     False  ...          False   \n",
      "\n",
      "    out.of.vehicle.theft  shop.theft  robbery  fraud  criminal.damage  \\\n",
      "0                  False       False    False  False            False   \n",
      "1                  False       False    False  False            False   \n",
      "2                  False       False    False  False            False   \n",
      "3                  False       False    False  False            False   \n",
      "4                  False       False    False  False            False   \n",
      "..                   ...         ...      ...    ...              ...   \n",
      "61                 False       False    False  False            False   \n",
      "62                 False       False    False  False            False   \n",
      "63                 False       False    False  False            False   \n",
      "64                 False       False    False  False            False   \n",
      "65                 False       False    False  False            False   \n",
      "\n",
      "    other.penal.crimes  narcotics  drunk.driving  population  \n",
      "0                False      False          False       False  \n",
      "1                False      False          False       False  \n",
      "2                False      False          False       False  \n",
      "3                False      False          False       False  \n",
      "4                False      False          False       False  \n",
      "..                 ...        ...            ...         ...  \n",
      "61               False      False          False       False  \n",
      "62               False      False          False       False  \n",
      "63               False      False          False       False  \n",
      "64               False      False          False       False  \n",
      "65               False      False          False       False  \n",
      "\n",
      "[66 rows x 21 columns]\n",
      "(array([], dtype=int64), array([], dtype=int64))\n"
     ]
    }
   ],
   "source": [
    "# Above Upper bound\n",
    "upper = df >= (Q3+1.5*IQR)\n",
    "\n",
    "print(\"Upper bound:\",upper)\n",
    "print(np.where(upper))\n",
    "\n",
    "# Below Lower bound\n",
    "lower = df <= (Q1-1.5*IQR)\n",
    "print(\"Lower bound:\", lower)\n",
    "print(np.where(lower))\n"
   ]
  },
  {
   "cell_type": "markdown",
   "metadata": {},
   "source": [
    "#### Removing outliers"
   ]
  },
  {
   "cell_type": "markdown",
   "metadata": {},
   "source": [
    "##### remove with zscore"
   ]
  },
  {
   "cell_type": "code",
   "execution_count": 14,
   "metadata": {},
   "outputs": [
    {
     "name": "stdout",
     "output_type": "stream",
     "text": [
      "(47, 21)\n"
     ]
    }
   ],
   "source": [
    "d=df[(np.abs(stats.zscore(df)) < 2).all(axis=1)]\n",
    "print (d.shape)"
   ]
  },
  {
   "cell_type": "markdown",
   "metadata": {},
   "source": [
    "##### remove with interquatile range"
   ]
  },
  {
   "cell_type": "code",
   "execution_count": 15,
   "metadata": {},
   "outputs": [
    {
     "name": "stdout",
     "output_type": "stream",
     "text": [
      "(51, 21)\n"
     ]
    }
   ],
   "source": [
    "Q1 = df.quantile(0.25)\n",
    "Q3 = df.quantile(0.75)\n",
    "IQR = Q3 - Q1\n",
    "\n",
    "k = df[~((df < (Q1 - 1.5 * IQR)) |(df > (Q3 + 1.5 * IQR))).any(axis=1)]\n",
    "\n",
    "print(k.shape)"
   ]
  },
  {
   "cell_type": "markdown",
   "metadata": {},
   "source": [
    "#### or replace outlier with median"
   ]
  },
  {
   "cell_type": "code",
   "execution_count": 16,
   "metadata": {},
   "outputs": [
    {
     "data": {
      "text/plain": [
       "(66, 20)"
      ]
     },
     "execution_count": 16,
     "metadata": {},
     "output_type": "execute_result"
    }
   ],
   "source": [
    "# or replace with median\n",
    "\n",
    "ddd=df.drop(['murder'],axis=1)\n",
    "median = ddd.median()\n",
    "std = ddd.std()\n",
    "outliers = (ddd - median).abs() > std\n",
    "\n",
    "ddd[outliers] = np.nan\n",
    "\n",
    "h=ddd.fillna(median)\n",
    "h.shape"
   ]
  },
  {
   "cell_type": "markdown",
   "metadata": {},
   "source": [
    "### VISUALIZATIONS"
   ]
  },
  {
   "cell_type": "markdown",
   "metadata": {},
   "source": [
    "### line chart"
   ]
  },
  {
   "cell_type": "markdown",
   "metadata": {},
   "source": [
    "#### crime rate and burgalry per year"
   ]
  },
  {
   "cell_type": "code",
   "execution_count": 17,
   "metadata": {},
   "outputs": [
    {
     "data": {
      "text/plain": [
       "<matplotlib.axes._subplots.AxesSubplot at 0x1c3fceea358>"
      ]
     },
     "execution_count": 17,
     "metadata": {},
     "output_type": "execute_result"
    },
    {
     "data": {
      "image/png": "[encoded data removed]",
      "text/plain": [
       "<Figure size 432x288 with 1 Axes>"
      ]
     },
     "metadata": {
      "needs_background": "light"
     },
     "output_type": "display_data"
    }
   ],
   "source": [
    "#may_flights = flights.query(\"month == 'May'\")\n",
    "\n",
    "datasettt = pd.read_csv(\"reported.csv\")\n",
    "\n",
    "\n",
    "sns.lineplot(data=datasettt, x=\"Year\", y=\"crimes.total\")\n",
    "sns.lineplot(data=datasettt, x=\"Year\", y=\"burglary\")\n"
   ]
  },
  {
   "cell_type": "markdown",
   "metadata": {},
   "source": [
    "### stackchart or density chart"
   ]
  },
  {
   "cell_type": "markdown",
   "metadata": {},
   "source": [
    "#### Assault per year"
   ]
  },
  {
   "cell_type": "code",
   "execution_count": 18,
   "metadata": {},
   "outputs": [
    {
     "data": {
      "image/png": "[encoded data removed]",
      "text/plain": [
       "<Figure size 432x288 with 1 Axes>"
      ]
     },
     "metadata": {
      "needs_background": "light"
     },
     "output_type": "display_data"
    }
   ],
   "source": [
    "# libraries\n",
    "import numpy as np\n",
    "import matplotlib.pyplot as plt\n",
    "import seaborn as sns\n",
    "\n",
    "\n",
    " \n",
    "# Data\n",
    "x=datasettt['Year']\n",
    "y=datasettt['assault']\n",
    " \n",
    "# Plot\n",
    "plt.stackplot(x,y)\n",
    "\n",
    "plt.legend(loc='upper left',labels=['A'])\n",
    "plt.show()\n",
    "\n"
   ]
  },
  {
   "cell_type": "markdown",
   "metadata": {},
   "source": [
    "### scatterplot"
   ]
  },
  {
   "cell_type": "markdown",
   "metadata": {},
   "source": [
    "#### fraud per year"
   ]
  },
  {
   "cell_type": "code",
   "execution_count": 19,
   "metadata": {},
   "outputs": [
    {
     "data": {
      "image/png": "[encoded data removed]",
      "text/plain": [
       "<Figure size 360x360 with 1 Axes>"
      ]
     },
     "metadata": {
      "needs_background": "light"
     },
     "output_type": "display_data"
    }
   ],
   "source": [
    "tips = datasettt\n",
    "g = sns.relplot(data=tips, x=\"Year\", y=\"fraud\")\n"
   ]
  },
  {
   "cell_type": "markdown",
   "metadata": {},
   "source": [
    "### barcharts"
   ]
  },
  {
   "cell_type": "markdown",
   "metadata": {},
   "source": [
    "#### house theft per year"
   ]
  },
  {
   "cell_type": "code",
   "execution_count": 20,
   "metadata": {},
   "outputs": [
    {
     "data": {
      "text/plain": [
       "<function matplotlib.pyplot.show(*args, **kw)>"
      ]
     },
     "execution_count": 20,
     "metadata": {},
     "output_type": "execute_result"
    },
    {
     "data": {
      "image/png": "[encoded data removed]",
      "text/plain": [
       "<Figure size 1080x576 with 1 Axes>"
      ]
     },
     "metadata": {
      "needs_background": "light"
     },
     "output_type": "display_data"
    }
   ],
   "source": [
    "import pandas as pd\n",
    "import matplotlib.pyplot as plt\n",
    "import seaborn as sns\n",
    "\n",
    "plt.figure(figsize = (15,8))\n",
    "\n",
    "\n",
    "ax=sns.barplot(x = 'Year', y = 'house.theft',data = datasettt,order=datasettt.sort_values('house.theft').Year)\n",
    "ax.set_xticklabels(ax.get_xticklabels(),rotation = 100)\n",
    "plt.show"
   ]
  },
  {
   "cell_type": "markdown",
   "metadata": {},
   "source": [
    "### histogram"
   ]
  },
  {
   "cell_type": "markdown",
   "metadata": {},
   "source": [
    "#### rape per year"
   ]
  },
  {
   "cell_type": "code",
   "execution_count": 21,
   "metadata": {},
   "outputs": [
    {
     "data": {
      "text/plain": [
       "<matplotlib.axes._subplots.AxesSubplot at 0x1c3ff4d6208>"
      ]
     },
     "execution_count": 21,
     "metadata": {},
     "output_type": "execute_result"
    },
    {
     "data": {
      "image/png": "[encoded data removed]",
      "text/plain": [
       "<Figure size 1080x576 with 1 Axes>"
      ]
     },
     "metadata": {
      "needs_background": "light"
     },
     "output_type": "display_data"
    }
   ],
   "source": [
    "#### Heatmap\n",
    "plt.figure(figsize = (15,8)) \n",
    "\n",
    "sns.histplot(data=df, x=\"Year\", y=\"rape\")"
   ]
  },
  {
   "cell_type": "markdown",
   "metadata": {},
   "source": [
    "### NORMALIZE WITH MINMAX SCALER USINGTHE OUTLIERS VALUES REPLACED BY MEDIAN"
   ]
  },
  {
   "cell_type": "code",
   "execution_count": 22,
   "metadata": {},
   "outputs": [
    {
     "name": "stdout",
     "output_type": "stream",
     "text": [
      "(66, 20)\n"
     ]
    },
    {
     "data": {
      "text/plain": [
       "array([[0.5       , 0.51922826, 0.51745161, 0.00186567, 0.00192308,\n",
       "        0.15942029, 0.04      , 0.48797841, 0.49331849, 0.482066  ,\n",
       "        0.55247238, 0.47984445, 0.50245857, 0.50724638, 0.56277056,\n",
       "        0.5021645 , 0.49626866, 0.53781513, 0.48412698, 0.48648649],\n",
       "       [0.5       , 0.51922826, 0.51745161, 0.01119403, 0.00961538,\n",
       "        0.23188406, 0.08      , 0.48797841, 0.49331849, 0.482066  ,\n",
       "        0.55247238, 0.47984445, 0.50245857, 0.50724638, 0.08658009,\n",
       "        0.5021645 , 0.49626866, 0.53781513, 0.48412698, 0.48648649],\n",
       "       [0.5       , 0.51922826, 0.51745161, 0.        , 0.        ,\n",
       "        0.14492754, 0.        , 0.48797841, 0.49331849, 0.482066  ,\n",
       "        0.55247238, 0.47984445, 0.50245857, 0.50724638, 0.56277056,\n",
       "        0.5021645 , 0.49626866, 0.53781513, 0.48412698, 0.48648649],\n",
       "       [0.5       , 0.51922826, 0.51745161, 0.        , 0.00192308,\n",
       "        0.23188406, 0.04      , 0.48797841, 0.49331849, 0.482066  ,\n",
       "        0.55247238, 0.47984445, 0.50245857, 0.50724638, 0.56277056,\n",
       "        0.5021645 , 0.49626866, 0.53781513, 0.48412698, 0.48648649],\n",
       "       [0.5       , 0.51922826, 0.51745161, 0.0130597 , 0.00576923,\n",
       "        0.17391304, 0.04      , 0.48797841, 0.49331849, 0.482066  ,\n",
       "        0.55247238, 0.47984445, 0.50245857, 0.50724638, 0.56277056,\n",
       "        0.5021645 , 0.49626866, 0.53781513, 0.48412698, 0.48648649]])"
      ]
     },
     "execution_count": 22,
     "metadata": {},
     "output_type": "execute_result"
    }
   ],
   "source": [
    "#### Normalize data\n",
    "from sklearn.preprocessing import MinMaxScaler\n",
    "\n",
    "#normalize before dropping the target columns in other to use for correlation feature selection\n",
    "s = MinMaxScaler() \n",
    "\n",
    "dataset = pd.read_csv(\"reported.csv\")\n",
    "dataset=dataset.apply(lambda x: x.fillna(x.mean())) \n",
    "\n",
    "#normalise while dropping target columns and encode the rest of the data in other to use for other feature selection\n",
    "#use the ouutliers replaced by median\n",
    "drpped= h\n",
    "dfencoded= np.array(dataset['murder']).reshape(-1,1)\n",
    "\n",
    "\n",
    "scaler = MinMaxScaler() \n",
    "scaled_values = scaler.fit_transform(drpped)\n",
    "\n",
    "print (np.shape(scaled_values))\n",
    "\n",
    "\n",
    "scaled_values[:5]"
   ]
  },
  {
   "cell_type": "code",
   "execution_count": 23,
   "metadata": {},
   "outputs": [
    {
     "data": {
      "text/html": [
       "<div>\n",
       "<style scoped>\n",
       "    .dataframe tbody tr th:only-of-type {\n",
       "        vertical-align: middle;\n",
       "    }\n",
       "\n",
       "    .dataframe tbody tr th {\n",
       "        vertical-align: top;\n",
       "    }\n",
       "\n",
       "    .dataframe thead th {\n",
       "        text-align: right;\n",
       "    }\n",
       "</style>\n",
       "<table border=\"1\" class=\"dataframe\">\n",
       "  <thead>\n",
       "    <tr style=\"text-align: right;\">\n",
       "      <th></th>\n",
       "      <th>Year</th>\n",
       "      <th>crimes.total</th>\n",
       "      <th>crimes.penal.code</th>\n",
       "      <th>crimes.person</th>\n",
       "      <th>assault</th>\n",
       "      <th>sexual.offenses</th>\n",
       "      <th>rape</th>\n",
       "      <th>stealing.general</th>\n",
       "      <th>burglary</th>\n",
       "      <th>house.theft</th>\n",
       "      <th>vehicle.theft</th>\n",
       "      <th>out.of.vehicle.theft</th>\n",
       "      <th>shop.theft</th>\n",
       "      <th>robbery</th>\n",
       "      <th>fraud</th>\n",
       "      <th>criminal.damage</th>\n",
       "      <th>other.penal.crimes</th>\n",
       "      <th>narcotics</th>\n",
       "      <th>drunk.driving</th>\n",
       "      <th>population</th>\n",
       "    </tr>\n",
       "  </thead>\n",
       "  <tbody>\n",
       "    <tr>\n",
       "      <th>0</th>\n",
       "      <td>0.5</td>\n",
       "      <td>0.519228</td>\n",
       "      <td>0.517452</td>\n",
       "      <td>0.001866</td>\n",
       "      <td>0.001923</td>\n",
       "      <td>0.159420</td>\n",
       "      <td>0.04</td>\n",
       "      <td>0.487978</td>\n",
       "      <td>0.493318</td>\n",
       "      <td>0.482066</td>\n",
       "      <td>0.552472</td>\n",
       "      <td>0.479844</td>\n",
       "      <td>0.502459</td>\n",
       "      <td>0.507246</td>\n",
       "      <td>0.562771</td>\n",
       "      <td>0.502165</td>\n",
       "      <td>0.496269</td>\n",
       "      <td>0.537815</td>\n",
       "      <td>0.484127</td>\n",
       "      <td>0.486486</td>\n",
       "    </tr>\n",
       "    <tr>\n",
       "      <th>1</th>\n",
       "      <td>0.5</td>\n",
       "      <td>0.519228</td>\n",
       "      <td>0.517452</td>\n",
       "      <td>0.011194</td>\n",
       "      <td>0.009615</td>\n",
       "      <td>0.231884</td>\n",
       "      <td>0.08</td>\n",
       "      <td>0.487978</td>\n",
       "      <td>0.493318</td>\n",
       "      <td>0.482066</td>\n",
       "      <td>0.552472</td>\n",
       "      <td>0.479844</td>\n",
       "      <td>0.502459</td>\n",
       "      <td>0.507246</td>\n",
       "      <td>0.086580</td>\n",
       "      <td>0.502165</td>\n",
       "      <td>0.496269</td>\n",
       "      <td>0.537815</td>\n",
       "      <td>0.484127</td>\n",
       "      <td>0.486486</td>\n",
       "    </tr>\n",
       "    <tr>\n",
       "      <th>2</th>\n",
       "      <td>0.5</td>\n",
       "      <td>0.519228</td>\n",
       "      <td>0.517452</td>\n",
       "      <td>0.000000</td>\n",
       "      <td>0.000000</td>\n",
       "      <td>0.144928</td>\n",
       "      <td>0.00</td>\n",
       "      <td>0.487978</td>\n",
       "      <td>0.493318</td>\n",
       "      <td>0.482066</td>\n",
       "      <td>0.552472</td>\n",
       "      <td>0.479844</td>\n",
       "      <td>0.502459</td>\n",
       "      <td>0.507246</td>\n",
       "      <td>0.562771</td>\n",
       "      <td>0.502165</td>\n",
       "      <td>0.496269</td>\n",
       "      <td>0.537815</td>\n",
       "      <td>0.484127</td>\n",
       "      <td>0.486486</td>\n",
       "    </tr>\n",
       "    <tr>\n",
       "      <th>3</th>\n",
       "      <td>0.5</td>\n",
       "      <td>0.519228</td>\n",
       "      <td>0.517452</td>\n",
       "      <td>0.000000</td>\n",
       "      <td>0.001923</td>\n",
       "      <td>0.231884</td>\n",
       "      <td>0.04</td>\n",
       "      <td>0.487978</td>\n",
       "      <td>0.493318</td>\n",
       "      <td>0.482066</td>\n",
       "      <td>0.552472</td>\n",
       "      <td>0.479844</td>\n",
       "      <td>0.502459</td>\n",
       "      <td>0.507246</td>\n",
       "      <td>0.562771</td>\n",
       "      <td>0.502165</td>\n",
       "      <td>0.496269</td>\n",
       "      <td>0.537815</td>\n",
       "      <td>0.484127</td>\n",
       "      <td>0.486486</td>\n",
       "    </tr>\n",
       "    <tr>\n",
       "      <th>4</th>\n",
       "      <td>0.5</td>\n",
       "      <td>0.519228</td>\n",
       "      <td>0.517452</td>\n",
       "      <td>0.013060</td>\n",
       "      <td>0.005769</td>\n",
       "      <td>0.173913</td>\n",
       "      <td>0.04</td>\n",
       "      <td>0.487978</td>\n",
       "      <td>0.493318</td>\n",
       "      <td>0.482066</td>\n",
       "      <td>0.552472</td>\n",
       "      <td>0.479844</td>\n",
       "      <td>0.502459</td>\n",
       "      <td>0.507246</td>\n",
       "      <td>0.562771</td>\n",
       "      <td>0.502165</td>\n",
       "      <td>0.496269</td>\n",
       "      <td>0.537815</td>\n",
       "      <td>0.484127</td>\n",
       "      <td>0.486486</td>\n",
       "    </tr>\n",
       "  </tbody>\n",
       "</table>\n",
       "</div>"
      ],
      "text/plain": [
       "   Year  crimes.total  crimes.penal.code  crimes.person   assault  \\\n",
       "0   0.5      0.519228           0.517452       0.001866  0.001923   \n",
       "1   0.5      0.519228           0.517452       0.011194  0.009615   \n",
       "2   0.5      0.519228           0.517452       0.000000  0.000000   \n",
       "3   0.5      0.519228           0.517452       0.000000  0.001923   \n",
       "4   0.5      0.519228           0.517452       0.013060  0.005769   \n",
       "\n",
       "   sexual.offenses  rape  stealing.general  burglary  house.theft  \\\n",
       "0         0.159420  0.04          0.487978  0.493318     0.482066   \n",
       "1         0.231884  0.08          0.487978  0.493318     0.482066   \n",
       "2         0.144928  0.00          0.487978  0.493318     0.482066   \n",
       "3         0.231884  0.04          0.487978  0.493318     0.482066   \n",
       "4         0.173913  0.04          0.487978  0.493318     0.482066   \n",
       "\n",
       "   vehicle.theft  out.of.vehicle.theft  shop.theft   robbery     fraud  \\\n",
       "0       0.552472              0.479844    0.502459  0.507246  0.562771   \n",
       "1       0.552472              0.479844    0.502459  0.507246  0.086580   \n",
       "2       0.552472              0.479844    0.502459  0.507246  0.562771   \n",
       "3       0.552472              0.479844    0.502459  0.507246  0.562771   \n",
       "4       0.552472              0.479844    0.502459  0.507246  0.562771   \n",
       "\n",
       "   criminal.damage  other.penal.crimes  narcotics  drunk.driving  population  \n",
       "0         0.502165            0.496269   0.537815       0.484127    0.486486  \n",
       "1         0.502165            0.496269   0.537815       0.484127    0.486486  \n",
       "2         0.502165            0.496269   0.537815       0.484127    0.486486  \n",
       "3         0.502165            0.496269   0.537815       0.484127    0.486486  \n",
       "4         0.502165            0.496269   0.537815       0.484127    0.486486  "
      ]
     },
     "execution_count": 23,
     "metadata": {},
     "output_type": "execute_result"
    }
   ],
   "source": [
    "#convert back to dataframe\n",
    "scaled_values_to_df = pd.DataFrame(scaled_values, columns=drpped.columns,index=drpped.index)\n",
    "\n",
    "#show first five rows of normalised data\n",
    "\n",
    "scaled_values_to_df.head()"
   ]
  },
  {
   "cell_type": "markdown",
   "metadata": {},
   "source": [
    "## FEATURE SELECTION"
   ]
  },
  {
   "cell_type": "markdown",
   "metadata": {},
   "source": [
    "### FILTER METHOD"
   ]
  },
  {
   "cell_type": "markdown",
   "metadata": {},
   "source": [
    "#### chi square"
   ]
  },
  {
   "cell_type": "code",
   "execution_count": 24,
   "metadata": {},
   "outputs": [
    {
     "name": "stdout",
     "output_type": "stream",
     "text": [
      "Original feature number: 20\n",
      "10 selected features\n",
      "['Year', 'crimes.total', 'crimes.penal.code', 'crimes.person', 'assault', 'sexual.offenses', 'rape', 'burglary', 'robbery', 'population']\n"
     ]
    }
   ],
   "source": [
    "#using chi square\n",
    "\n",
    "from sklearn.feature_selection import SelectKBest\n",
    "from sklearn.feature_selection import chi2\n",
    "from sklearn.preprocessing import MinMaxScaler\n",
    "\n",
    "#DEFINE X FOR FEATURES, AND Y FOR TARGET\n",
    "\n",
    "X= scaled_values_to_df #Feature Matrix\n",
    "y = dataset[\"murder\"] #target\n",
    "\n",
    "X_norm = MinMaxScaler().fit_transform(X)\n",
    "\n",
    "#print(np.shape(X_norm))\n",
    "\n",
    "chi_selector = SelectKBest(chi2, k=10)\n",
    "\n",
    "chi_Features_for_training = chi_selector.fit_transform(X, y)\n",
    "\n",
    "#print (np.shape(chi_Features_for_training))\n",
    "\n",
    "chi_support = chi_selector.get_support()\n",
    "chi_feature = X.loc[:,chi_support].columns.tolist()\n",
    "\n",
    "print('Original feature number:', X.shape[1])\n",
    "\n",
    "print(str(len(chi_feature)), 'selected features')\n",
    "\n",
    "print(chi_feature)\n",
    "\n"
   ]
  },
  {
   "cell_type": "markdown",
   "metadata": {},
   "source": [
    "#### pearson correlation"
   ]
  },
  {
   "cell_type": "code",
   "execution_count": 25,
   "metadata": {},
   "outputs": [
    {
     "data": {
      "image/png": "[encoded data removed]",
      "text/plain": [
       "<Figure size 864x720 with 2 Axes>"
      ]
     },
     "metadata": {
      "needs_background": "light"
     },
     "output_type": "display_data"
    }
   ],
   "source": [
    "#using Pearson correlation\n",
    "import seaborn as sns\n",
    "plt.figure(figsize=(12,10))\n",
    "cor = dataset.corr()\n",
    "sns.heatmap(cor, annot=True, cmap=plt.cm.Reds)\n",
    "plt.show()"
   ]
  },
  {
   "cell_type": "code",
   "execution_count": 26,
   "metadata": {},
   "outputs": [
    {
     "name": "stdout",
     "output_type": "stream",
     "text": [
      "Original feature number: 21\n",
      "the relevant features are 15\n",
      "the relevant features are Year                  0.711252\n",
      "crimes.total          0.645602\n",
      "crimes.penal.code     0.631088\n",
      "crimes.person         0.703834\n",
      "murder                1.000000\n",
      "assault               0.702906\n",
      "sexual.offenses       0.674073\n",
      "rape                  0.669512\n",
      "robbery               0.667353\n",
      "fraud                 0.505537\n",
      "criminal.damage       0.682365\n",
      "other.penal.crimes    0.647027\n",
      "narcotics             0.581683\n",
      "drunk.driving         0.513687\n",
      "population            0.712011\n",
      "Name: murder, dtype: float64\n"
     ]
    }
   ],
   "source": [
    "#Correlation with output variable\n",
    "cor_target = abs(cor[\"murder\"])\n",
    "#Selecting highly correlated features\n",
    "relevant_features = cor_target[cor_target>0.5]\n",
    "print('Original feature number:', dataset.shape[1])\n",
    "print (\"the relevant features are\",len(relevant_features))\n",
    "print (\"the relevant features are\",relevant_features)"
   ]
  },
  {
   "cell_type": "markdown",
   "metadata": {},
   "source": [
    "#### information gain"
   ]
  },
  {
   "cell_type": "code",
   "execution_count": 27,
   "metadata": {},
   "outputs": [
    {
     "name": "stdout",
     "output_type": "stream",
     "text": [
      "[0.19097978 0.34690445 0.39508946 0.4398323  0.47544798 0.27571416\n",
      " 0.43847161 0.14478233 0.17889761 0.20949402 0.26482311 0.\n",
      " 0.04761716 0.22395878 0.19465517 0.19449295 0.0633333  0.15772806\n",
      " 0.00393278 0.25041402]\n"
     ]
    },
    {
     "data": {
      "image/png": "[encoded data removed]",
      "text/plain": [
       "<Figure size 432x288 with 1 Axes>"
      ]
     },
     "metadata": {
      "needs_background": "light"
     },
     "output_type": "display_data"
    }
   ],
   "source": [
    "\n",
    "from sklearn.feature_selection import mutual_info_classif\n",
    "\n",
    "\n",
    "\n",
    "#Specify features\n",
    "X =scaled_values_to_df #Feature Matrix\n",
    "\n",
    "#Specify target\n",
    "y = dataset[\"murder\"]\n",
    "\n",
    "res = mutual_info_classif(X, y)\n",
    "\n",
    "feat_importance=pd.Series(res,dataset.columns[0:len(dataset.columns)-1])\n",
    "\n",
    "feat_importance.plot(kind='barh')\n",
    "             \n",
    "print(res)\n"
   ]
  },
  {
   "cell_type": "markdown",
   "metadata": {},
   "source": [
    "#### Anova or univariate statistical test"
   ]
  },
  {
   "cell_type": "code",
   "execution_count": 28,
   "metadata": {},
   "outputs": [
    {
     "name": "stdout",
     "output_type": "stream",
     "text": [
      "The Dataset features are: 20\n",
      "The selected features with ANOVA(Filter Method) are 10\n",
      "They are:\n",
      "['Year', 'crimes.total', 'crimes.penal.code', 'crimes.person', 'assault', 'rape', 'burglary', 'robbery', 'criminal.damage', 'population']\n"
     ]
    }
   ],
   "source": [
    "# Feature Selection with ANOVA or Univariate Statistical Tests\n",
    "\n",
    "from numpy import set_printoptions\n",
    "from sklearn.feature_selection import SelectKBest\n",
    "from sklearn.feature_selection import f_classif\n",
    "#Specify features\n",
    "X =scaled_values_to_df #Feature Matrix\n",
    "\n",
    "#Specify target\n",
    "y = dataset[\"murder\"]\n",
    "# feature extraction\n",
    "test = SelectKBest(score_func=f_classif, k=10)\n",
    "fit = test.fit(X, y)\n",
    "# summarize scores\n",
    "set_printoptions(precision=10)\n",
    "\n",
    "features = fit.transform(X)\n",
    "# summarize selected features\n",
    "ANOVA_Features_for_training = test.fit_transform(X, y)\n",
    "\n",
    "#print (np.shape(chi_Features_for_training))\n",
    "\n",
    "ANOVA_support = test.get_support()\n",
    "\n",
    "ANOVA_feature = X.loc[:,ANOVA_support].columns.tolist()\n",
    "\n",
    "print('The Dataset features are:', X.shape[1])\n",
    "\n",
    "\n",
    "\n",
    "print('The selected features with ANOVA(Filter Method) are', len(ANOVA_feature))\n",
    "\n",
    "print(\"They are:\")\n",
    "\n",
    "print(ANOVA_feature)\n",
    "\n"
   ]
  },
  {
   "cell_type": "markdown",
   "metadata": {},
   "source": [
    "### WRAPPER METHOD"
   ]
  },
  {
   "cell_type": "markdown",
   "metadata": {},
   "source": [
    "#### RFE"
   ]
  },
  {
   "cell_type": "code",
   "execution_count": 29,
   "metadata": {},
   "outputs": [
    {
     "name": "stderr",
     "output_type": "stream",
     "text": [
      "C:\\Users\\admin\\AppData\\Roaming\\Python\\Python37\\site-packages\\sklearn\\utils\\validation.py:70: FutureWarning: Pass n_features_to_select=10 as keyword args. From version 0.25 passing these as positional arguments will result in an error\n",
      "  FutureWarning)\n"
     ]
    },
    {
     "name": "stdout",
     "output_type": "stream",
     "text": [
      "Original feature number: 20\n",
      "10 selected features\n",
      "['Year', 'crimes.total', 'crimes.person', 'assault', 'sexual.offenses', 'stealing.general', 'burglary', 'shop.theft', 'robbery', 'population']\n"
     ]
    }
   ],
   "source": [
    "#using RFE\n",
    "from sklearn.linear_model import LinearRegression\n",
    "from sklearn.feature_selection import RFE\n",
    "from sklearn.feature_selection import SelectKBest\n",
    "\n",
    "model = LinearRegression()\n",
    "#Initializing RFE model\n",
    "rfe = RFE(model, 10)\n",
    "#Transforming data using RFE\n",
    "\n",
    "#DEFINE X FOR FEATURES, AND Y FOR TARGET\n",
    "\n",
    "X= scaled_values_to_df  #Feature Matrix\n",
    "y = dataset[\"murder\"] #target\n",
    "\n",
    "rfe_for_training = rfe.fit_transform(X,y)  \n",
    "\n",
    "#print (np.shape(rfe_for_training))\n",
    "\n",
    "#Fitting the data to model\n",
    "\n",
    "#print(rfe.support_)\n",
    "#print(rfe.ranking_)\n",
    "\n",
    "rfe_support = rfe.get_support()\n",
    "\n",
    "rfe_feature = X.loc[:,rfe_support].columns.tolist()\n",
    "\n",
    "print('Original feature number:', X.shape[1])\n",
    "\n",
    "\n",
    "\n",
    "print(str(len(chi_feature)), 'selected features')\n",
    "\n",
    "print(rfe_feature)"
   ]
  },
  {
   "cell_type": "markdown",
   "metadata": {},
   "source": [
    "#### forward selection"
   ]
  },
  {
   "cell_type": "code",
   "execution_count": 30,
   "metadata": {},
   "outputs": [
    {
     "name": "stdout",
     "output_type": "stream",
     "text": [
      "The Dataset features are: 20\n",
      "11 selected features using forward selection (Wrapper Method) \n",
      "They are\n"
     ]
    },
    {
     "data": {
      "text/plain": [
       "('Year',\n",
       " 'crimes.total',\n",
       " 'crimes.person',\n",
       " 'assault',\n",
       " 'sexual.offenses',\n",
       " 'stealing.general',\n",
       " 'burglary',\n",
       " 'shop.theft',\n",
       " 'robbery',\n",
       " 'fraud',\n",
       " 'criminal.damage')"
      ]
     },
     "execution_count": 30,
     "metadata": {},
     "output_type": "execute_result"
    }
   ],
   "source": [
    "#using forward_selection\n",
    "#importing the necessary libraries\n",
    "from mlxtend.feature_selection import SequentialFeatureSelector as SFS\n",
    "from sklearn.linear_model import LinearRegression\n",
    "\n",
    "#Specify features\n",
    "X =scaled_values_to_df \n",
    "\n",
    "#Specify target\n",
    "y = dataset[\"murder\"]\n",
    "\n",
    "# Sequential Forward Selection(sfs)\n",
    "sfs = SFS(LinearRegression(),\n",
    "          k_features=11,\n",
    "          forward=True,\n",
    "          floating=False,\n",
    "          scoring = 'r2',\n",
    "          cv = 0)\n",
    "sfs.fit(X, y)\n",
    "sfs.k_feature_names_  \n",
    "\n",
    "forward_Features_for_training = sfs.fit_transform(X, y)\n",
    "\n",
    "#print (np.shape(chi_Features_for_training))\n",
    "\n",
    "#forward_support = sfs.get_support()\n",
    "#forward_feature = X.loc[:,forward_support].columns.tolist()\n",
    "\n",
    "\n",
    "print('The Dataset features are:', X.shape[1])\n",
    "\n",
    "\n",
    "\n",
    "print(str(len(sfs.k_feature_names_)), 'selected features using forward selection (Wrapper Method) ')\n",
    "\n",
    "print (\"They are\")\n",
    "\n",
    "sfs.k_feature_names_"
   ]
  },
  {
   "cell_type": "markdown",
   "metadata": {},
   "source": [
    "#### backward method"
   ]
  },
  {
   "cell_type": "code",
   "execution_count": 31,
   "metadata": {},
   "outputs": [
    {
     "name": "stdout",
     "output_type": "stream",
     "text": [
      "The Dataset features are: 20\n",
      "11 selected features using forward selection (Wrapper Method) \n",
      "They are\n"
     ]
    },
    {
     "data": {
      "text/plain": [
       "('Year',\n",
       " 'crimes.total',\n",
       " 'crimes.person',\n",
       " 'assault',\n",
       " 'sexual.offenses',\n",
       " 'stealing.general',\n",
       " 'burglary',\n",
       " 'shop.theft',\n",
       " 'robbery',\n",
       " 'narcotics',\n",
       " 'population')"
      ]
     },
     "execution_count": 31,
     "metadata": {},
     "output_type": "execute_result"
    }
   ],
   "source": [
    "#using backward_elimination\n",
    "#importing the necessary libraries\n",
    "from mlxtend.feature_selection import SequentialFeatureSelector as SFS\n",
    "from sklearn.linear_model import LinearRegression\n",
    "\n",
    "#Specify features\n",
    "X =scaled_values_to_df \n",
    "\n",
    "#Specify target\n",
    "y = dataset[\"murder\"]\n",
    "\n",
    "# Sequential Forward Selection(sfs)\n",
    "sfs = SFS(LinearRegression(),\n",
    "          k_features=11,\n",
    "          forward=False,\n",
    "          floating=False,\n",
    "          scoring = 'r2',\n",
    "          cv = 0)\n",
    "sfs.fit(X, y)\n",
    "sfs.k_feature_names_  \n",
    "\n",
    "backward_Features_for_training = sfs.fit_transform(X, y)\n",
    "print('The Dataset features are:', X.shape[1])\n",
    "print(str(len(sfs.k_feature_names_)), 'selected features using forward selection (Wrapper Method) ')\n",
    "print (\"They are\")\n",
    "\n",
    "sfs.k_feature_names_"
   ]
  },
  {
   "cell_type": "markdown",
   "metadata": {},
   "source": [
    "### EMBEDDED METHOD"
   ]
  },
  {
   "cell_type": "markdown",
   "metadata": {},
   "source": [
    "#### Lasso (L1 Regularization)"
   ]
  },
  {
   "cell_type": "code",
   "execution_count": 32,
   "metadata": {},
   "outputs": [
    {
     "name": "stdout",
     "output_type": "stream",
     "text": [
      "total features: 20\n",
      "selected features: 4\n",
      "Index(['crimes.person', 'assault', 'rape', 'burglary'], dtype='object')\n",
      "features with coefficients shrank to zero: 73\n"
     ]
    }
   ],
   "source": [
    "#using lasso\n",
    "from sklearn.linear_model import Lasso, LogisticRegression\n",
    "from sklearn.feature_selection import SelectFromModel\n",
    "from sklearn.preprocessing import StandardScaler\n",
    "\n",
    "X= scaled_values_to_df#Feature Matrix\n",
    "y = dataset[\"murder\"] #target\n",
    "\n",
    "scaler = StandardScaler()\n",
    "scaler.fit(X)\n",
    "sel_ = SelectFromModel(LogisticRegression(C=1, penalty='l1', solver='liblinear'))\n",
    "sel_.fit(scaler.transform(X.fillna(0)), y)\n",
    "\n",
    "lasso_for_training=sel_.fit_transform(X.fillna(0), y)\n",
    "\n",
    "\n",
    "#print (np.shape(lasso_for_training))\n",
    "\n",
    "sel_support = sel_.get_support()\n",
    "\n",
    "#print(sel_support)\n",
    "\n",
    "selected_feat = X.columns[(sel_.get_support())]\n",
    "\n",
    "\n",
    "print('total features: {}'.format((X.shape[1])))\n",
    "print('selected features: {}'.format(len(selected_feat)))\n",
    "\n",
    "print(selected_feat)\n",
    "\n",
    "print('features with coefficients shrank to zero: {}'.format(\n",
    "      np.sum(sel_.estimator_.coef_ == 0)))"
   ]
  },
  {
   "cell_type": "markdown",
   "metadata": {},
   "source": [
    "#### Ridge Regression(L2 Regularisation)"
   ]
  },
  {
   "cell_type": "code",
   "execution_count": 33,
   "metadata": {},
   "outputs": [
    {
     "name": "stdout",
     "output_type": "stream",
     "text": [
      "The Dataset features are: 20\n",
      "selected features using Ridge Regression (Embedded Method)  7\n",
      "They are\n",
      "Index(['crimes.total', 'crimes.penal.code', 'crimes.person', 'assault', 'rape',\n",
      "       'burglary', 'narcotics'],\n",
      "      dtype='object')\n"
     ]
    }
   ],
   "source": [
    "#using Ridge Regression(L2 Regularisation)\n",
    "from sklearn.linear_model import Lasso, LogisticRegression\n",
    "from sklearn.feature_selection import SelectFromModel\n",
    "from sklearn.preprocessing import StandardScaler\n",
    "\n",
    "#Specify features\n",
    "X =scaled_values_to_df\n",
    "\n",
    "#Specify target\n",
    "y = dataset[\"murder\"]\n",
    "\n",
    "s = StandardScaler()\n",
    "s.fit(X)\n",
    "\n",
    "#Specify L2 regularization\n",
    "sel_ = SelectFromModel(LogisticRegression(C=1, penalty='l2', solver='liblinear'))\n",
    "sel_.fit(s.transform(X.fillna(0)), y)\n",
    "\n",
    "Ridge_for_training=sel_.fit_transform(X.fillna(0), y)\n",
    "\n",
    "#print (np.shape(lasso_for_training))\n",
    "\n",
    "sel_support = sel_.get_support()\n",
    "\n",
    "#print(sel_support)\n",
    "\n",
    "selected_feat = X.columns[(sel_.get_support())]\n",
    "\n",
    "\n",
    "print('The Dataset features are: {}'.format((X.shape[1])))\n",
    "print('selected features using Ridge Regression (Embedded Method)  {}'.format(len(selected_feat)))\n",
    "\n",
    "print (\"They are\")\n",
    "\n",
    "print(selected_feat)\n",
    "\n"
   ]
  },
  {
   "cell_type": "markdown",
   "metadata": {},
   "source": [
    "#### Random Forest Importance"
   ]
  },
  {
   "cell_type": "code",
   "execution_count": 34,
   "metadata": {},
   "outputs": [
    {
     "name": "stdout",
     "output_type": "stream",
     "text": [
      "7 selected features\n",
      "['crimes.total', 'crimes.penal.code', 'crimes.person', 'assault', 'rape', 'stealing.general', 'burglary']\n"
     ]
    },
    {
     "data": {
      "image/png": "[encoded data removed]",
      "text/plain": [
       "<Figure size 432x288 with 1 Axes>"
      ]
     },
     "metadata": {
      "needs_background": "light"
     },
     "output_type": "display_data"
    }
   ],
   "source": [
    "#using random forest\n",
    "from sklearn.feature_selection import SelectFromModel\n",
    "from sklearn.ensemble import RandomForestClassifier\n",
    "\n",
    "\n",
    "X= scaled_values_to_df   #Feature Matrix\n",
    "y = dataset[\"murder\"] #target\n",
    "\n",
    "embeded_rf_selector = RandomForestClassifier(n_estimators=100)\n",
    "embeded_rf_selector.fit(X, y)\n",
    "\n",
    "importance=embeded_rf_selector.feature_importances_\n",
    "\n",
    "#dataframe for visualization\n",
    "final_df=pd.DataFrame({\"Features\": pd.DataFrame(X).columns, \"importance\":importance})\n",
    "final_df.set_index('importance')\n",
    "\n",
    "final_df=final_df.sort_values('importance')\n",
    "\n",
    "final_df.plot.bar()\n",
    "\n",
    "\n",
    "#feature selection\n",
    "embeded_rf_selector2 = SelectFromModel(RandomForestClassifier(n_estimators=100))\n",
    "embeded_rf_selector2.fit(X, y)\n",
    "rf_for_training=embeded_rf_selector2.fit_transform(X, y)\n",
    "#print (np.shape(rf_for_training))\n",
    "\n",
    "\n",
    "embeded_rf_support = embeded_rf_selector2.get_support()\n",
    "embeded_rf_feature = X.loc[:,embeded_rf_support].columns.tolist()\n",
    "print(str(len(embeded_rf_feature)), 'selected features')\n",
    "print(embeded_rf_feature)"
   ]
  },
  {
   "cell_type": "markdown",
   "metadata": {},
   "source": [
    "### PRICINPLE COMPONENT ANALYSIS (PCA)"
   ]
  },
  {
   "cell_type": "code",
   "execution_count": 35,
   "metadata": {},
   "outputs": [
    {
     "name": "stdout",
     "output_type": "stream",
     "text": [
      "Explained Variance: [0.458007953  0.1263825305 0.0965043568 0.069223275  0.0507519918]\n",
      "[[ 0.2781697463  0.2472204491  0.3000264039  0.3504448003  0.3477691604\n",
      "   0.2552570285  0.2933626897  0.1997248652  0.1086584374  0.0036801721\n",
      "   0.1205380481  0.1186676273  0.1622563459  0.2909100476  0.0940995119\n",
      "   0.2712468204  0.1091846696  0.0958213135  0.0993953197  0.2680029964]\n",
      " [-0.0113469668 -0.3986587523 -0.3693793253  0.1693075158  0.1706056243\n",
      "  -0.0654133437  0.0011761536 -0.0034737211  0.5897133596  0.1398901529\n",
      "   0.1281050917  0.0150118085 -0.3166948512  0.1408308576  0.2611675074\n",
      "   0.0223089255  0.0815713859 -0.1566750591  0.1953522546 -0.0164844485]\n",
      " [ 0.1892666632 -0.2031178444 -0.1563402578 -0.1718120648 -0.1696481873\n",
      "   0.1274218412  0.1288950457  0.2457306037  0.3775224771 -0.3806054424\n",
      "   0.0023915806  0.0350069701  0.0706001019 -0.0722641751 -0.3987600788\n",
      "   0.1369414048 -0.0956182265  0.0370327355 -0.4539334516  0.2319299501]\n",
      " [-0.180701392  -0.1004339904 -0.1098231633  0.2739246713  0.2761038746\n",
      "   0.1628129124  0.2272802997 -0.1420425269 -0.1412488566 -0.3758842176\n",
      "   0.0155797364 -0.0611959636  0.1906884518 -0.1205611659  0.3473912082\n",
      "  -0.2072856991 -0.4102651957 -0.2750956241 -0.2603643337 -0.0635034524]\n",
      " [-0.2114736861 -0.0803066722 -0.0032699356 -0.0274422082 -0.0325669579\n",
      "  -0.4147105485  0.1485176386  0.3912476526  0.0292035308 -0.2226504297\n",
      "   0.2421747979  0.0774575075  0.3101268107 -0.2148600399  0.2582917327\n",
      "  -0.252699176   0.3016028773  0.3126825282  0.1177676597  0.0964110138]]\n"
     ]
    }
   ],
   "source": [
    "\n",
    "# Feature Extraction with PCA\n",
    "\n",
    "from sklearn.decomposition import PCA\n",
    "X = scaled_values_to_df #Feature Matrix\n",
    "\n",
    "# feature extraction\n",
    "pca = PCA(n_components=5)\n",
    "fitt = pca.fit(X)\n",
    "\n",
    "PCA_featuress_for_training = fitt.transform(X)\n",
    "# summarize components\n",
    "print(\"Explained Variance: %s\" % fitt.explained_variance_ratio_)\n",
    "print(fitt.components_)"
   ]
  },
  {
   "cell_type": "code",
   "execution_count": 36,
   "metadata": {},
   "outputs": [
    {
     "data": {
      "text/plain": [
       "2    31\n",
       "1    26\n",
       "3     8\n",
       "4     1\n",
       "Name: murder, dtype: int64"
      ]
     },
     "execution_count": 36,
     "metadata": {},
     "output_type": "execute_result"
    }
   ],
   "source": [
    "dataset[\"murder\"].value_counts()"
   ]
  },
  {
   "cell_type": "markdown",
   "metadata": {},
   "source": [
    "## TRAINING"
   ]
  },
  {
   "cell_type": "markdown",
   "metadata": {},
   "source": [
    "### NAIVE BAYES TRAINING WITHOUT FEATURE SELECTION"
   ]
  },
  {
   "cell_type": "code",
   "execution_count": 37,
   "metadata": {},
   "outputs": [
    {
     "name": "stdout",
     "output_type": "stream",
     "text": [
      "(66, 20)\n",
      "Training accuracy of naive bayes without Feature selection is: 0.8478260869565217\n",
      "Testing accuracy of naive bayes without Feature selection is: 0.6\n",
      "              precision    recall  f1-score   support\n",
      "\n",
      "           1       0.70      0.78      0.74         9\n",
      "           2       0.67      0.44      0.53         9\n",
      "           3       0.25      0.50      0.33         2\n",
      "\n",
      "    accuracy                           0.60        20\n",
      "   macro avg       0.54      0.57      0.53        20\n",
      "weighted avg       0.64      0.60      0.60        20\n",
      "\n"
     ]
    }
   ],
   "source": [
    "\n",
    "#without feature selection\n",
    "\n",
    "#use outliers replaced with median\n",
    "X2=h\n",
    "#X2=dataset.drop([' shares','url'],axis=1)\n",
    "print (np.shape(X2))\n",
    "\n",
    "y = dataset[\"murder\"]\n",
    "\n",
    "\n",
    "# build the training and testing sets (80% For training, 20% for testing)\n",
    "X_train, X_test, y_train, y_test = train_test_split(X2, y, test_size=0.3)\n",
    "#using gausian Naive Bayes with chisquare feature selection\n",
    "\n",
    "\n",
    "from sklearn.naive_bayes import GaussianNB\n",
    "\n",
    "#import\n",
    "from sklearn.linear_model import LogisticRegression\n",
    "\n",
    "from sklearn.tree import DecisionTreeClassifier\n",
    "\n",
    "from sklearn.ensemble import RandomForestRegressor\n",
    "\n",
    "model = GaussianNB()\n",
    "model.fit(X_train, y_train)\n",
    "model_predictions = model.predict(X_test)\n",
    "\n",
    "train_acc = model.score(X_train, y_train) # mean acc on train data\n",
    "\n",
    "test_acc = model.score(X_test, y_test)\n",
    "print(\"Training accuracy of naive bayes without Feature selection is:\", train_acc )\n",
    "print(\"Testing accuracy of naive bayes without Feature selection is:\", test_acc)\n",
    "\n",
    "predictions = model.predict(X_test)\n",
    "CM = confusion_matrix(y_test,predictions)\n",
    "\n",
    "from sklearn.metrics import classification_report\n",
    "print(classification_report(y_test, predictions))"
   ]
  },
  {
   "cell_type": "markdown",
   "metadata": {},
   "source": [
    "### NAIVE BAYES TRAINING WITH FEATURE SELECTION"
   ]
  },
  {
   "cell_type": "markdown",
   "metadata": {},
   "source": [
    "##### COMPARING CHISQUARE , RFE , AND LASSO"
   ]
  },
  {
   "cell_type": "markdown",
   "metadata": {},
   "source": [
    "##### CHISQUARE"
   ]
  },
  {
   "cell_type": "code",
   "execution_count": 38,
   "metadata": {},
   "outputs": [
    {
     "name": "stdout",
     "output_type": "stream",
     "text": [
      "(66, 10)\n"
     ]
    }
   ],
   "source": [
    "\n",
    "#Using filter method chisquare\n",
    "\n",
    "X2=chi_Features_for_training\n",
    "#X2=dataset.drop([' shares','url'],axis=1)\n",
    "print (np.shape(X2))\n",
    "\n",
    "y = dataset[\"murder\"]\n",
    "\n",
    "\n",
    "\n",
    "\n"
   ]
  },
  {
   "cell_type": "code",
   "execution_count": 39,
   "metadata": {},
   "outputs": [],
   "source": [
    "# build the training and testing sets (80% For training, 20% for testing)\n",
    "X_train, X_test, y_train, y_test = train_test_split(X2, y, test_size=0.2)"
   ]
  },
  {
   "cell_type": "code",
   "execution_count": 40,
   "metadata": {},
   "outputs": [
    {
     "data": {
      "text/plain": [
       "(52, 10)"
      ]
     },
     "execution_count": 40,
     "metadata": {},
     "output_type": "execute_result"
    }
   ],
   "source": [
    "X_train.shape"
   ]
  },
  {
   "cell_type": "code",
   "execution_count": 41,
   "metadata": {},
   "outputs": [
    {
     "name": "stdout",
     "output_type": "stream",
     "text": [
      "Training accuracy of naive bayes for chisquare (Filter method) Feature selection is: 0.7307692307692307\n",
      "Testing accuracy of naive bayes for chisquare (Filter method) Feature selection is: 0.7857142857142857\n",
      "              precision    recall  f1-score   support\n",
      "\n",
      "           1       0.80      1.00      0.89         4\n",
      "           2       1.00      0.67      0.80         6\n",
      "           3       0.60      0.75      0.67         4\n",
      "\n",
      "    accuracy                           0.79        14\n",
      "   macro avg       0.80      0.81      0.79        14\n",
      "weighted avg       0.83      0.79      0.79        14\n",
      "\n"
     ]
    }
   ],
   "source": [
    "#using gausian Naive Bayes with chisquare feature selection\n",
    "\n",
    "\n",
    "from sklearn.naive_bayes import GaussianNB\n",
    "\n",
    "#import\n",
    "from sklearn.linear_model import LogisticRegression\n",
    "\n",
    "from sklearn.tree import DecisionTreeClassifier\n",
    "\n",
    "from sklearn.ensemble import RandomForestRegressor\n",
    "\n",
    "\n",
    "model = GaussianNB()\n",
    "model.fit(X_train, y_train)\n",
    "model_predictions = model.predict(X_test)\n",
    "\n",
    "train_acc = model.score(X_train, y_train) # mean acc on train data\n",
    "\n",
    "test_acc = model.score(X_test, y_test)\n",
    "\n",
    "\n",
    "print(\"Training accuracy of naive bayes for chisquare (Filter method) Feature selection is:\", train_acc )\n",
    "print(\"Testing accuracy of naive bayes for chisquare (Filter method) Feature selection is:\", test_acc)\n",
    "\n",
    "predictions = model.predict(X_test)\n",
    "CM = confusion_matrix(y_test,predictions)\n",
    "\n",
    "from sklearn.metrics import classification_report\n",
    "print(classification_report(y_test, predictions))"
   ]
  },
  {
   "cell_type": "markdown",
   "metadata": {},
   "source": [
    "#### RFE"
   ]
  },
  {
   "cell_type": "code",
   "execution_count": 42,
   "metadata": {},
   "outputs": [
    {
     "name": "stdout",
     "output_type": "stream",
     "text": [
      "(66, 10)\n",
      "Training accuracy of naive bayes for RFE (Wrapper method) Feature selection is: 0.75\n",
      "Testing accuracy of naive bayes for RFE (Wrapper method) Feature selection is: 0.7142857142857143\n",
      "              precision    recall  f1-score   support\n",
      "\n",
      "           1       0.62      1.00      0.77         5\n",
      "           2       1.00      0.67      0.80         6\n",
      "           3       0.50      0.50      0.50         2\n",
      "           4       0.00      0.00      0.00         1\n",
      "\n",
      "    accuracy                           0.71        14\n",
      "   macro avg       0.53      0.54      0.52        14\n",
      "weighted avg       0.72      0.71      0.69        14\n",
      "\n"
     ]
    },
    {
     "name": "stderr",
     "output_type": "stream",
     "text": [
      "C:\\Users\\admin\\AppData\\Roaming\\Python\\Python37\\site-packages\\sklearn\\metrics\\_classification.py:1221: UndefinedMetricWarning: Precision and F-score are ill-defined and being set to 0.0 in labels with no predicted samples. Use `zero_division` parameter to control this behavior.\n",
      "  _warn_prf(average, modifier, msg_start, len(result))\n",
      "C:\\Users\\admin\\AppData\\Roaming\\Python\\Python37\\site-packages\\sklearn\\metrics\\_classification.py:1221: UndefinedMetricWarning: Precision and F-score are ill-defined and being set to 0.0 in labels with no predicted samples. Use `zero_division` parameter to control this behavior.\n",
      "  _warn_prf(average, modifier, msg_start, len(result))\n",
      "C:\\Users\\admin\\AppData\\Roaming\\Python\\Python37\\site-packages\\sklearn\\metrics\\_classification.py:1221: UndefinedMetricWarning: Precision and F-score are ill-defined and being set to 0.0 in labels with no predicted samples. Use `zero_division` parameter to control this behavior.\n",
      "  _warn_prf(average, modifier, msg_start, len(result))\n"
     ]
    }
   ],
   "source": [
    "\n",
    "#Using Wrapper method RFE\n",
    "\n",
    "X2=rfe_for_training\n",
    "#X2=dataset.drop([' shares','url'],axis=1)\n",
    "print (np.shape(X2))\n",
    "\n",
    "y = dataset[\"murder\"]\n",
    "\n",
    "# build the training and testing sets (80% For training, 20% for testing)\n",
    "X_train, X_test, y_train, y_test = train_test_split(X2, y, test_size=0.2)\n",
    "\n",
    "#using gausian Naive Bayes with chisquare feature selection\n",
    "\n",
    "\n",
    "from sklearn.naive_bayes import GaussianNB\n",
    "\n",
    "#import\n",
    "from sklearn.linear_model import LogisticRegression\n",
    "\n",
    "from sklearn.tree import DecisionTreeClassifier\n",
    "\n",
    "from sklearn.ensemble import RandomForestRegressor\n",
    "\n",
    "\n",
    "model = GaussianNB()\n",
    "model.fit(X_train, y_train)\n",
    "model_predictions = model.predict(X_test)\n",
    "\n",
    "train_acc = model.score(X_train, y_train) # mean acc on train data\n",
    "\n",
    "test_acc = model.score(X_test, y_test)\n",
    "\n",
    "\n",
    "print(\"Training accuracy of naive bayes for RFE (Wrapper method) Feature selection is:\", train_acc )\n",
    "print(\"Testing accuracy of naive bayes for RFE (Wrapper method) Feature selection is:\", test_acc)\n",
    "predictions = model.predict(X_test)\n",
    "CM = confusion_matrix(y_test,predictions)\n",
    "\n",
    "from sklearn.metrics import classification_report\n",
    "print(classification_report(y_test, predictions))"
   ]
  },
  {
   "cell_type": "markdown",
   "metadata": {},
   "source": [
    "#### LASSO"
   ]
  },
  {
   "cell_type": "code",
   "execution_count": 43,
   "metadata": {},
   "outputs": [
    {
     "name": "stdout",
     "output_type": "stream",
     "text": [
      "(66, 4)\n",
      "Training accuracy of naive bayes for RFE (Wrapper method) Feature selection is: 0.8076923076923077\n",
      "Testing accuracy of naive bayes for RFE (Wrapper method) Feature selection is: 0.7142857142857143\n",
      "              precision    recall  f1-score   support\n",
      "\n",
      "           1       0.67      0.86      0.75         7\n",
      "           2       0.75      0.75      0.75         4\n",
      "           3       1.00      0.33      0.50         3\n",
      "\n",
      "    accuracy                           0.71        14\n",
      "   macro avg       0.81      0.65      0.67        14\n",
      "weighted avg       0.76      0.71      0.70        14\n",
      "\n"
     ]
    }
   ],
   "source": [
    "\n",
    "#Using embedded method lasso\n",
    "\n",
    "X2=lasso_for_training\n",
    "#X2=dataset.drop([' shares','url'],axis=1)\n",
    "print (np.shape(X2))\n",
    "\n",
    "y = dataset[\"murder\"]\n",
    "\n",
    "# build the training and testing sets (80% For training, 20% for testing)\n",
    "X_train, X_test, y_train, y_test = train_test_split(X2, y, test_size=0.2)\n",
    "\n",
    "#using gausian Naive Bayes with chisquare feature selection\n",
    "\n",
    "\n",
    "from sklearn.naive_bayes import GaussianNB\n",
    "\n",
    "#import\n",
    "from sklearn.linear_model import LogisticRegression\n",
    "\n",
    "from sklearn.tree import DecisionTreeClassifier\n",
    "\n",
    "from sklearn.ensemble import RandomForestRegressor\n",
    "\n",
    "\n",
    "model = GaussianNB()\n",
    "model.fit(X_train, y_train)\n",
    "model_predictions = model.predict(X_test)\n",
    "\n",
    "train_acc = model.score(X_train, y_train) # mean acc on train data\n",
    "\n",
    "test_acc =model.score(X_test, y_test)\n",
    "\n",
    "\n",
    "print(\"Training accuracy of naive bayes for RFE (Wrapper method) Feature selection is:\", train_acc )\n",
    "print(\"Testing accuracy of naive bayes for RFE (Wrapper method) Feature selection is:\", test_acc)\n",
    "predictions =model.predict(X_test)\n",
    "CM = confusion_matrix(y_test,predictions)\n",
    "\n",
    "from sklearn.metrics import classification_report\n",
    "print(classification_report(y_test, predictions))"
   ]
  },
  {
   "cell_type": "markdown",
   "metadata": {},
   "source": [
    "#### PCA"
   ]
  },
  {
   "cell_type": "code",
   "execution_count": 44,
   "metadata": {},
   "outputs": [
    {
     "name": "stdout",
     "output_type": "stream",
     "text": [
      "(66, 5)\n",
      "Training accuracy of naive bayes for RFE (Wrapper method) Feature selection is: 0.75\n",
      "Testing accuracy of naive bayes for RFE (Wrapper method) Feature selection is: 0.7142857142857143\n",
      "              precision    recall  f1-score   support\n",
      "\n",
      "           1       0.57      1.00      0.73         4\n",
      "           2       1.00      0.67      0.80         9\n",
      "           3       0.00      0.00      0.00         1\n",
      "\n",
      "    accuracy                           0.71        14\n",
      "   macro avg       0.52      0.56      0.51        14\n",
      "weighted avg       0.81      0.71      0.72        14\n",
      "\n"
     ]
    }
   ],
   "source": [
    "\n",
    "#Using embedded method lasso\n",
    "\n",
    "X2=PCA_featuress_for_training\n",
    "#X2=dataset.drop([' shares','url'],axis=1)\n",
    "print (np.shape(X2))\n",
    "\n",
    "y = dataset[\"murder\"]\n",
    "\n",
    "# build the training and testing sets (80% For training, 20% for testing)\n",
    "X_train, X_test, y_train, y_test = train_test_split(X2, y, test_size=0.2)\n",
    "\n",
    "#using gausian Naive Bayes with chisquare feature selection\n",
    "\n",
    "\n",
    "from sklearn.naive_bayes import GaussianNB\n",
    "\n",
    "#import\n",
    "from sklearn.linear_model import LogisticRegression\n",
    "\n",
    "from sklearn.tree import DecisionTreeClassifier\n",
    "\n",
    "from sklearn.ensemble import RandomForestRegressor\n",
    "\n",
    "\n",
    "model = GaussianNB()\n",
    "model.fit(X_train, y_train)\n",
    "model_predictions = model.predict(X_test)\n",
    "\n",
    "train_acc =model.score(X_train, y_train) # mean acc on train data\n",
    "\n",
    "test_acc = model.score(X_test, y_test)\n",
    "\n",
    "\n",
    "print(\"Training accuracy of naive bayes for RFE (Wrapper method) Feature selection is:\", train_acc )\n",
    "print(\"Testing accuracy of naive bayes for RFE (Wrapper method) Feature selection is:\", test_acc)\n",
    "predictions =model.predict(X_test)\n",
    "CM = confusion_matrix(y_test,predictions)\n",
    "\n",
    "from sklearn.metrics import classification_report\n",
    "print(classification_report(y_test, predictions))"
   ]
  },
  {
   "cell_type": "markdown",
   "metadata": {},
   "source": [
    "### Compare algorithms using lasso feature selection"
   ]
  },
  {
   "cell_type": "markdown",
   "metadata": {},
   "source": [
    "#### Naive bayes"
   ]
  },
  {
   "cell_type": "code",
   "execution_count": 45,
   "metadata": {},
   "outputs": [
    {
     "name": "stdout",
     "output_type": "stream",
     "text": [
      "(66, 4)\n",
      "Training accuracy of naive bayes for lasso (Embedded method) Feature selection is: 0.8461538461538461\n",
      "Testing accuracy of naive bayes for lasso (Embedded method) Feature selection is: 0.5\n"
     ]
    }
   ],
   "source": [
    "#using gausian Naive Bayes with chisquare feature selection\n",
    "\n",
    "\n",
    "from sklearn.naive_bayes import GaussianNB\n",
    "\n",
    "#import\n",
    "from sklearn.linear_model import LogisticRegression\n",
    "\n",
    "from sklearn.tree import DecisionTreeClassifier\n",
    "\n",
    "from sklearn.ensemble import RandomForestRegressor\n",
    "\n",
    "#Using embedded method lasso\n",
    "\n",
    "X2=lasso_for_training\n",
    "#X2=dataset.drop([' shares','url'],axis=1)\n",
    "print (np.shape(X2))\n",
    "\n",
    "y = dataset[\"murder\"]\n",
    "\n",
    "# build the training and testing sets (80% For training, 20% for testing)\n",
    "X_train, X_test, y_train, y_test = train_test_split(X2, y, test_size=0.2)\n",
    "\n",
    "model = GaussianNB()\n",
    "model.fit(X_train, y_train)\n",
    "model_predictions = model.predict(X_test)\n",
    "\n",
    "train_acc = model.score(X_train, y_train) # mean acc on train data\n",
    "\n",
    "test_acc = model.score(X_test, y_test)\n",
    "\n",
    "\n",
    "print(\"Training accuracy of naive bayes for lasso (Embedded method) Feature selection is:\", train_acc )\n",
    "print(\"Testing accuracy of naive bayes for lasso (Embedded method) Feature selection is:\", test_acc)"
   ]
  },
  {
   "cell_type": "code",
   "execution_count": 46,
   "metadata": {},
   "outputs": [
    {
     "name": "stderr",
     "output_type": "stream",
     "text": [
      "C:\\Users\\admin\\AppData\\Roaming\\Python\\Python37\\site-packages\\sklearn\\metrics\\_classification.py:1221: UndefinedMetricWarning: Precision and F-score are ill-defined and being set to 0.0 in labels with no predicted samples. Use `zero_division` parameter to control this behavior.\n",
      "  _warn_prf(average, modifier, msg_start, len(result))\n",
      "C:\\Users\\admin\\AppData\\Roaming\\Python\\Python37\\site-packages\\sklearn\\metrics\\_classification.py:1221: UndefinedMetricWarning: Precision and F-score are ill-defined and being set to 0.0 in labels with no predicted samples. Use `zero_division` parameter to control this behavior.\n",
      "  _warn_prf(average, modifier, msg_start, len(result))\n",
      "C:\\Users\\admin\\AppData\\Roaming\\Python\\Python37\\site-packages\\sklearn\\metrics\\_classification.py:1221: UndefinedMetricWarning: Precision and F-score are ill-defined and being set to 0.0 in labels with no predicted samples. Use `zero_division` parameter to control this behavior.\n",
      "  _warn_prf(average, modifier, msg_start, len(result))\n"
     ]
    },
    {
     "name": "stdout",
     "output_type": "stream",
     "text": [
      "              precision    recall  f1-score   support\n",
      "\n",
      "           1       0.50      0.60      0.55         5\n",
      "           2       0.60      0.50      0.55         6\n",
      "           3       0.33      0.50      0.40         2\n",
      "           4       0.00      0.00      0.00         1\n",
      "\n",
      "    accuracy                           0.50        14\n",
      "   macro avg       0.36      0.40      0.37        14\n",
      "weighted avg       0.48      0.50      0.49        14\n",
      "\n"
     ]
    },
    {
     "data": {
      "image/png": "[encoded data removed]",
      "text/plain": [
       "<Figure size 432x288 with 2 Axes>"
      ]
     },
     "metadata": {
      "needs_background": "light"
     },
     "output_type": "display_data"
    }
   ],
   "source": [
    "predictions = model.predict(X_test)\n",
    "CM = confusion_matrix(y_test,predictions)\n",
    "#### TO test on another data\n",
    "import seaborn as sns\n",
    "import matplotlib.pyplot as plt     \n",
    "\n",
    "ax= plt.subplot()\n",
    "sns.heatmap(CM,annot=True, fmt='g', ax=ax);  #annot=True to annotate cells, ftm='g' to disable scientific notation\n",
    "\n",
    "# labels, title and ticks\n",
    "#ax.set_xlabel('Predicted labels');ax.set_ylabel('True labels'); \n",
    "ax.set_title('Confusion Matrix'); \n",
    "\n",
    "from sklearn.metrics import classification_report\n",
    "print(classification_report(y_test, predictions))"
   ]
  },
  {
   "cell_type": "markdown",
   "metadata": {},
   "source": [
    "#### K neaerest neighbor"
   ]
  },
  {
   "cell_type": "code",
   "execution_count": 58,
   "metadata": {},
   "outputs": [
    {
     "name": "stdout",
     "output_type": "stream",
     "text": [
      "(66, 4)\n",
      "Training accuracy of knearest neighbor for lasso (Embedded method) Feature selection is: 0.8076923076923077\n",
      "Testing accuracy of knearest neighbor for lasso (Embedded method) Feature selection is: 0.5\n"
     ]
    }
   ],
   "source": [
    "#using gausian Naive Bayes with chisquare feature selection\n",
    "\n",
    "\n",
    "#import \n",
    "\n",
    "from sklearn.neighbors import KNeighborsClassifier\n",
    "\n",
    "#Using embedded method lasso\n",
    "\n",
    "X2=lasso_for_training\n",
    "#X2=dataset.drop([' shares','url'],axis=1)\n",
    "print (np.shape(X2))\n",
    "\n",
    "y = dataset[\"murder\"]\n",
    "\n",
    "# build the training and testing sets (80% For training, 20% for testing)\n",
    "X_train, X_test, y_train, y_test = train_test_split(X2, y, test_size=0.2)\n",
    "\n",
    "model = KNeighborsClassifier()\n",
    "model.fit(X_train, y_train)\n",
    "model_predictions = model.predict(X_test)\n",
    "\n",
    "train_acc =model.score(X_train, y_train) # mean acc on train data\n",
    "\n",
    "test_acc =model.score(X_test, y_test)\n",
    "\n",
    "\n",
    "print(\"Training accuracy of knearest neighbor for lasso (Embedded method) Feature selection is:\", train_acc )\n",
    "print(\"Testing accuracy of knearest neighbor for lasso (Embedded method) Feature selection is:\", test_acc)"
   ]
  },
  {
   "cell_type": "code",
   "execution_count": 59,
   "metadata": {},
   "outputs": [
    {
     "name": "stdout",
     "output_type": "stream",
     "text": [
      "              precision    recall  f1-score   support\n",
      "\n",
      "           1       0.57      0.80      0.67         5\n",
      "           2       0.50      0.43      0.46         7\n",
      "           3       0.00      0.00      0.00         2\n",
      "\n",
      "    accuracy                           0.50        14\n",
      "   macro avg       0.36      0.41      0.38        14\n",
      "weighted avg       0.45      0.50      0.47        14\n",
      "\n"
     ]
    },
    {
     "data": {
      "image/png": "[encoded data removed]",
      "text/plain": [
       "<Figure size 432x288 with 2 Axes>"
      ]
     },
     "metadata": {
      "needs_background": "light"
     },
     "output_type": "display_data"
    }
   ],
   "source": [
    "predictions = model.predict(X_test)\n",
    "CM = confusion_matrix(y_test,predictions)\n",
    "#### TO test on another data\n",
    "import seaborn as sns\n",
    "import matplotlib.pyplot as plt     \n",
    "ax= plt.subplot()\n",
    "sns.heatmap(CM,annot=True, fmt='g', ax=ax);  #annot=True to annotate cells, ftm='g' to disable scientific notation\n",
    "# labels, title and ticks\n",
    "#ax.set_xlabel('Predicted labels');ax.set_ylabel('True labels'); \n",
    "ax.set_title('Confusion Matrix'); \n",
    "from sklearn.metrics import classification_report\n",
    "print(classification_report(y_test, predictions))"
   ]
  },
  {
   "cell_type": "markdown",
   "metadata": {},
   "source": [
    "#### SVM"
   ]
  },
  {
   "cell_type": "code",
   "execution_count": 60,
   "metadata": {},
   "outputs": [
    {
     "name": "stdout",
     "output_type": "stream",
     "text": [
      "Training accuracy of SVM for lasso (Embedded method) Feature selection is: 0.8076923076923077\n",
      "Testing accuracy of SVM for lasso (Embedded method) Feature selection is: 0.5714285714285714\n"
     ]
    }
   ],
   "source": [
    "from sklearn.svm import SVC\n",
    "\n",
    "#Using embedded method lasso\n",
    "\n",
    "X2=lasso_for_training\n",
    "#X2=dataset.drop([' shares','url'],axis=1)\n",
    "#print (np.shape(X2))\n",
    "\n",
    "y = dataset[\"murder\"]\n",
    "\n",
    "# build the training and testing sets (80% For training, 20% for testing)\n",
    "X_train, X_test, y_train, y_test = train_test_split(X2, y, test_size=0.2)\n",
    "\n",
    "model = KNeighborsClassifier()\n",
    "model.fit(X_train, y_train)\n",
    "model_predictions = model.predict(X_test)\n",
    "\n",
    "train_acc =model.score(X_train, y_train) # mean acc on train data\n",
    "\n",
    "test_acc =model.score(X_test, y_test)\n",
    "\n",
    "\n",
    "print(\"Training accuracy of SVM for lasso (Embedded method) Feature selection is:\", train_acc )\n",
    "print(\"Testing accuracy of SVM for lasso (Embedded method) Feature selection is:\", test_acc)\n"
   ]
  },
  {
   "cell_type": "code",
   "execution_count": 61,
   "metadata": {},
   "outputs": [
    {
     "name": "stderr",
     "output_type": "stream",
     "text": [
      "C:\\Users\\admin\\AppData\\Roaming\\Python\\Python37\\site-packages\\sklearn\\metrics\\_classification.py:1221: UndefinedMetricWarning: Precision and F-score are ill-defined and being set to 0.0 in labels with no predicted samples. Use `zero_division` parameter to control this behavior.\n",
      "  _warn_prf(average, modifier, msg_start, len(result))\n",
      "C:\\Users\\admin\\AppData\\Roaming\\Python\\Python37\\site-packages\\sklearn\\metrics\\_classification.py:1221: UndefinedMetricWarning: Precision and F-score are ill-defined and being set to 0.0 in labels with no predicted samples. Use `zero_division` parameter to control this behavior.\n",
      "  _warn_prf(average, modifier, msg_start, len(result))\n",
      "C:\\Users\\admin\\AppData\\Roaming\\Python\\Python37\\site-packages\\sklearn\\metrics\\_classification.py:1221: UndefinedMetricWarning: Precision and F-score are ill-defined and being set to 0.0 in labels with no predicted samples. Use `zero_division` parameter to control this behavior.\n",
      "  _warn_prf(average, modifier, msg_start, len(result))\n"
     ]
    },
    {
     "name": "stdout",
     "output_type": "stream",
     "text": [
      "              precision    recall  f1-score   support\n",
      "\n",
      "           1       0.57      0.80      0.67         5\n",
      "           2       0.57      0.67      0.62         6\n",
      "           3       0.00      0.00      0.00         3\n",
      "\n",
      "    accuracy                           0.57        14\n",
      "   macro avg       0.38      0.49      0.43        14\n",
      "weighted avg       0.45      0.57      0.50        14\n",
      "\n"
     ]
    },
    {
     "data": {
      "image/png": "[encoded data removed]",
      "text/plain": [
       "<Figure size 432x288 with 2 Axes>"
      ]
     },
     "metadata": {
      "needs_background": "light"
     },
     "output_type": "display_data"
    }
   ],
   "source": [
    "predictions = model.predict(X_test)\n",
    "CM = confusion_matrix(y_test,predictions)\n",
    "#### TO test on another data\n",
    "import seaborn as sns\n",
    "import matplotlib.pyplot as plt     \n",
    "\n",
    "ax= plt.subplot()\n",
    "sns.heatmap(CM,annot=True, fmt='g', ax=ax);  #annot=True to annotate cells, ftm='g' to disable scientific notation\n",
    "\n",
    "# labels, title and ticks\n",
    "#ax.set_xlabel('Predicted labels');ax.set_ylabel('True labels'); \n",
    "ax.set_title('Confusion Matrix'); \n",
    "\n",
    "\n",
    "from sklearn.metrics import classification_report\n",
    "print(classification_report(y_test, predictions))"
   ]
  },
  {
   "cell_type": "markdown",
   "metadata": {},
   "source": [
    "#### CNN"
   ]
  },
  {
   "cell_type": "code",
   "execution_count": 62,
   "metadata": {},
   "outputs": [
    {
     "name": "stdout",
     "output_type": "stream",
     "text": [
      "Epoch 1/10\n",
      "7/7 [==============================] - 2s 5ms/step - loss: 0.2068 - accuracy: 0.4808\n",
      "Epoch 2/10\n",
      "7/7 [==============================] - 0s 6ms/step - loss: 0.1977 - accuracy: 0.4808\n",
      "Epoch 3/10\n",
      "7/7 [==============================] - 0s 11ms/step - loss: 0.1906 - accuracy: 0.4808\n",
      "Epoch 4/10\n",
      "7/7 [==============================] - 0s 6ms/step - loss: 0.1842 - accuracy: 0.4808\n",
      "Epoch 5/10\n",
      "7/7 [==============================] - 0s 8ms/step - loss: 0.1777 - accuracy: 0.4808\n",
      "Epoch 6/10\n",
      "7/7 [==============================] - 0s 6ms/step - loss: 0.1718 - accuracy: 0.4808\n",
      "Epoch 7/10\n",
      "7/7 [==============================] - ETA: 0s - loss: 0.1681 - accuracy: 0.50 - 0s 7ms/step - loss: 0.1650 - accuracy: 0.4808\n",
      "Epoch 8/10\n",
      "7/7 [==============================] - 0s 12ms/step - loss: 0.1588 - accuracy: 0.4808\n",
      "Epoch 9/10\n",
      "7/7 [==============================] - 0s 6ms/step - loss: 0.1537 - accuracy: 0.4808\n",
      "Epoch 10/10\n",
      "7/7 [==============================] - 0s 7ms/step - loss: 0.1500 - accuracy: 0.4808\n",
      "<tensorflow.python.keras.callbacks.History object at 0x000001C38F152240>\n"
     ]
    }
   ],
   "source": [
    "from pandas import read_csv\n",
    "from sklearn.model_selection import train_test_split\n",
    "from sklearn.preprocessing import LabelEncoder\n",
    "from tensorflow.keras import Sequential\n",
    "from tensorflow.keras.layers import Dense\n",
    "from tensorflow.keras.utils import to_categorical\n",
    "import tensorflow as tf\n",
    "\n",
    "x_train=X_train\n",
    "\n",
    "# define model\n",
    "n_features = 4\n",
    "\n",
    "model22 = Sequential()\n",
    "model22.add(Dense(76, activation='relu', kernel_initializer='he_normal', input_shape=(n_features,)))\n",
    "model22.add(Dense(8, activation='relu', kernel_initializer='he_normal'))\n",
    "model22.add(Dense(4, activation='sigmoid'))\n",
    "# compile the model\n",
    "model22.compile(optimizer='adam', loss='mse', metrics=['accuracy'])\n",
    "# fit the model\n",
    "\n",
    "from sklearn.preprocessing import LabelBinarizer\n",
    "lb = LabelBinarizer()\n",
    "\n",
    "yyy=lb.fit_transform(y_train.astype(str)) \n",
    "\n",
    "#y_train = np.reshape((-1,1)\n",
    "history=model22.fit(x_train,yyy, epochs=10, batch_size=8, verbose=1)\n",
    "# evaluate the model\n",
    "print(history)"
   ]
  },
  {
   "cell_type": "code",
   "execution_count": 63,
   "metadata": {},
   "outputs": [
    {
     "name": "stderr",
     "output_type": "stream",
     "text": [
      "C:\\Users\\admin\\AppData\\Roaming\\Python\\Python37\\site-packages\\sklearn\\metrics\\_classification.py:1221: UndefinedMetricWarning: Precision and F-score are ill-defined and being set to 0.0 in labels with no predicted samples. Use `zero_division` parameter to control this behavior.\n",
      "  _warn_prf(average, modifier, msg_start, len(result))\n",
      "C:\\Users\\admin\\AppData\\Roaming\\Python\\Python37\\site-packages\\sklearn\\metrics\\_classification.py:1221: UndefinedMetricWarning: Precision and F-score are ill-defined and being set to 0.0 in labels with no predicted samples. Use `zero_division` parameter to control this behavior.\n",
      "  _warn_prf(average, modifier, msg_start, len(result))\n",
      "C:\\Users\\admin\\AppData\\Roaming\\Python\\Python37\\site-packages\\sklearn\\metrics\\_classification.py:1221: UndefinedMetricWarning: Precision and F-score are ill-defined and being set to 0.0 in labels with no predicted samples. Use `zero_division` parameter to control this behavior.\n",
      "  _warn_prf(average, modifier, msg_start, len(result))\n"
     ]
    },
    {
     "name": "stdout",
     "output_type": "stream",
     "text": [
      "              precision    recall  f1-score   support\n",
      "\n",
      "           1       0.25      0.60      0.35         5\n",
      "           2       0.00      0.00      0.00         6\n",
      "           3       0.00      0.00      0.00         3\n",
      "\n",
      "    accuracy                           0.21        14\n",
      "   macro avg       0.08      0.20      0.12        14\n",
      "weighted avg       0.09      0.21      0.13        14\n",
      "\n"
     ]
    },
    {
     "data": {
      "image/png": "[encoded data removed]",
      "text/plain": [
       "<Figure size 432x288 with 2 Axes>"
      ]
     },
     "metadata": {
      "needs_background": "light"
     },
     "output_type": "display_data"
    }
   ],
   "source": [
    "predictions = model22.predict(X_test)\n",
    "\n",
    "pred = np.argmax(predictions, axis=1)\n",
    "# label\n",
    "#y_train = np.argmax(y_train, axis=1)\n",
    "\n",
    "\n",
    "CM = confusion_matrix(y_test,pred)\n",
    "\n",
    "\n",
    "#### TO test on another data\n",
    "import seaborn as sns\n",
    "import matplotlib.pyplot as plt     \n",
    "\n",
    "ax= plt.subplot()\n",
    "sns.heatmap(CM,annot=True, fmt='g', ax=ax);  #annot=True to annotate cells, ftm='g' to disable scientific notation\n",
    "\n",
    "# labels, title and ticks\n",
    "#ax.set_xlabel('Predicted labels');ax.set_ylabel('True labels'); \n",
    "ax.set_title('Confusion Matrix'); \n",
    "\n",
    "from sklearn.metrics import classification_report\n",
    "print(classification_report(y_test, pred))"
   ]
  },
  {
   "cell_type": "markdown",
   "metadata": {},
   "source": [
    "#### LSTM"
   ]
  },
  {
   "cell_type": "code",
   "execution_count": null,
   "metadata": {},
   "outputs": [
    {
     "name": "stdout",
     "output_type": "stream",
     "text": [
      "Model: \"model_5\"\n",
      "_________________________________________________________________\n",
      "Layer (type)                 Output Shape              Param #   \n",
      "=================================================================\n",
      "input_6 (InputLayer)         [(None, 4)]               0         \n",
      "_________________________________________________________________\n",
      "embedding_5 (Embedding)      (None, 4, 256)            9216      \n",
      "_________________________________________________________________\n",
      "lstm_5 (LSTM)                (None, 256)               525312    \n",
      "_________________________________________________________________\n",
      "dense_11 (Dense)             (None, 4)                 1028      \n",
      "=================================================================\n",
      "Total params: 535,556\n",
      "Trainable params: 535,556\n",
      "Non-trainable params: 0\n",
      "_________________________________________________________________\n",
      "Epoch 1/5\n"
     ]
    }
   ],
   "source": [
    "from tensorflow.keras.layers import *\n",
    "from tensorflow.keras.models import *\n",
    "import numpy as np\n",
    "\n",
    "x_train=X_train\n",
    "\n",
    "input_ = Input(shape=(4)) # shape from train_data\n",
    "\n",
    "embedded = Embedding(36, 256, input_length = 52)(input_) \n",
    "\n",
    "lstm = LSTM(256, return_sequences=False)(embedded) # --> ERROR\n",
    "dense = Dense(4, activation='relu')(lstm) \n",
    "\n",
    "from sklearn.preprocessing import LabelBinarizer\n",
    "lb = LabelBinarizer()\n",
    "labelss = lb.fit_transform(y_train)\n",
    "#y_train=pd.get_dummies(y_train)\n",
    "\n",
    "model2 = Model(input_, dense)\n",
    "model2.summary()\n",
    "model2.compile(loss='binary_crossentropy', optimizer='adam',metrics=['accuracy'])\n",
    "H=model2.fit(X_train,labelss, epochs=5, batch_size=1, verbose=2)"
   ]
  },
  {
   "cell_type": "code",
   "execution_count": 73,
   "metadata": {},
   "outputs": [
    {
     "name": "stdout",
     "output_type": "stream",
     "text": [
      "WARNING:tensorflow:6 out of the last 6 calls to <function Model.make_predict_function.<locals>.predict_function at 0x000001C3FFFCF840> triggered tf.function retracing. Tracing is expensive and the excessive number of tracings could be due to (1) creating @tf.function repeatedly in a loop, (2) passing tensors with different shapes, (3) passing Python objects instead of tensors. For (1), please define your @tf.function outside of the loop. For (2), @tf.function has experimental_relax_shapes=True option that relaxes argument shapes that can avoid unnecessary retracing. For (3), please refer to https://www.tensorflow.org/guide/function#controlling_retracing and https://www.tensorflow.org/api_docs/python/tf/function for  more details.\n"
     ]
    },
    {
     "data": {
      "image/png": "[encoded data removed]",
      "text/plain": [
       "<Figure size 432x288 with 2 Axes>"
      ]
     },
     "metadata": {
      "needs_background": "light"
     },
     "output_type": "display_data"
    }
   ],
   "source": [
    "predictions = model2.predict(X_test)\n",
    "pred = np.argmax(predictions, axis=1)\n",
    "CM = confusion_matrix(y_test,pred)\n",
    "#### TO test on another data\n",
    "import seaborn as sns\n",
    "import matplotlib.pyplot as plt     \n",
    "ax= plt.subplot()\n",
    "sns.heatmap(CM,annot=True, fmt='g', ax=ax);  #annot=True to annotate cells, ftm='g' to disable scientific notation\n",
    "# labels, title and ticks\n",
    "#ax.set_xlabel('Predicted labels');ax.set_ylabel('True labels'); \n",
    "ax.set_title('Confusion Matrix'); \n"
   ]
  },
  {
   "cell_type": "code",
   "execution_count": 74,
   "metadata": {},
   "outputs": [
    {
     "name": "stdout",
     "output_type": "stream",
     "text": [
      "              precision    recall  f1-score   support\n",
      "\n",
      "           0       0.00      0.00      0.00       0.0\n",
      "           1       0.00      0.00      0.00       5.0\n",
      "           2       0.00      0.00      0.00       6.0\n",
      "           3       0.00      0.00      0.00       3.0\n",
      "\n",
      "    accuracy                           0.00      14.0\n",
      "   macro avg       0.00      0.00      0.00      14.0\n",
      "weighted avg       0.00      0.00      0.00      14.0\n",
      "\n"
     ]
    },
    {
     "name": "stderr",
     "output_type": "stream",
     "text": [
      "C:\\Users\\admin\\AppData\\Roaming\\Python\\Python37\\site-packages\\sklearn\\metrics\\_classification.py:1221: UndefinedMetricWarning: Precision and F-score are ill-defined and being set to 0.0 in labels with no predicted samples. Use `zero_division` parameter to control this behavior.\n",
      "  _warn_prf(average, modifier, msg_start, len(result))\n",
      "C:\\Users\\admin\\AppData\\Roaming\\Python\\Python37\\site-packages\\sklearn\\metrics\\_classification.py:1221: UndefinedMetricWarning: Recall and F-score are ill-defined and being set to 0.0 in labels with no true samples. Use `zero_division` parameter to control this behavior.\n",
      "  _warn_prf(average, modifier, msg_start, len(result))\n",
      "C:\\Users\\admin\\AppData\\Roaming\\Python\\Python37\\site-packages\\sklearn\\metrics\\_classification.py:1221: UndefinedMetricWarning: Precision and F-score are ill-defined and being set to 0.0 in labels with no predicted samples. Use `zero_division` parameter to control this behavior.\n",
      "  _warn_prf(average, modifier, msg_start, len(result))\n",
      "C:\\Users\\admin\\AppData\\Roaming\\Python\\Python37\\site-packages\\sklearn\\metrics\\_classification.py:1221: UndefinedMetricWarning: Recall and F-score are ill-defined and being set to 0.0 in labels with no true samples. Use `zero_division` parameter to control this behavior.\n",
      "  _warn_prf(average, modifier, msg_start, len(result))\n",
      "C:\\Users\\admin\\AppData\\Roaming\\Python\\Python37\\site-packages\\sklearn\\metrics\\_classification.py:1221: UndefinedMetricWarning: Precision and F-score are ill-defined and being set to 0.0 in labels with no predicted samples. Use `zero_division` parameter to control this behavior.\n",
      "  _warn_prf(average, modifier, msg_start, len(result))\n",
      "C:\\Users\\admin\\AppData\\Roaming\\Python\\Python37\\site-packages\\sklearn\\metrics\\_classification.py:1221: UndefinedMetricWarning: Recall and F-score are ill-defined and being set to 0.0 in labels with no true samples. Use `zero_division` parameter to control this behavior.\n",
      "  _warn_prf(average, modifier, msg_start, len(result))\n"
     ]
    }
   ],
   "source": [
    "from sklearn.metrics import classification_report\n",
    "print(classification_report(y_test, pred))"
   ]
  },
  {
   "cell_type": "markdown",
   "metadata": {},
   "source": [
    "### Save trained model"
   ]
  },
  {
   "cell_type": "code",
   "execution_count": 67,
   "metadata": {},
   "outputs": [],
   "source": [
    "#To pickle or save the ml model\n",
    "import pickle\n",
    "\n",
    "pickle_out = open(\"crime_prediction.pickle\",\"wb\")\n",
    "#use the model trained with the pipeline\n",
    "pickle.dump(model, pickle_out)\n",
    "pickle_out.close()"
   ]
  },
  {
   "cell_type": "code",
   "execution_count": 68,
   "metadata": {},
   "outputs": [],
   "source": [
    "# savig and using your trained model\n",
    "pickle_in = open(\"crime_prediction.pickle\",\"rb\")\n",
    "model = pickle.load(pickle_in)"
   ]
  },
  {
   "cell_type": "code",
   "execution_count": null,
   "metadata": {},
   "outputs": [],
   "source": []
  }
 ],
 "metadata": {
  "kernelspec": {
   "display_name": "Python 3",
   "language": "python",
   "name": "python3"
  },
  "language_info": {
   "codemirror_mode": {
    "name": "ipython",
    "version": 3
   },
   "file_extension": ".py",
   "mimetype": "text/x-python",
   "name": "python",
   "nbconvert_exporter": "python",
   "pygments_lexer": "ipython3",
   "version": "3.7.3"
  }
 },
 "nbformat": 4,
 "nbformat_minor": 2
}
